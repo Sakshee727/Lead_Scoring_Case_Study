{
 "cells": [
  {
   "cell_type": "code",
   "execution_count": null,
   "id": "5184caff-1d21-4340-a752-0489a9f40c9a",
   "metadata": {},
   "outputs": [],
   "source": [
    "# import to supress unnecessary warnings\n",
    "\n",
    "import warnings\n",
    "warnings.filterwarnings('ignore')\n",
    "\n",
    "# Importing the NumPy and Pandas packages\n",
    "\n",
    "import numpy as np\n",
    "import pandas as pd\n",
    "\n",
    "import time, warnings\n",
    "import datetime as dt"
   ]
  },
  {
   "cell_type": "code",
   "execution_count": null,
   "id": "e7eba81b-8fe2-4bbb-a4fa-23ab4d7dbd75",
   "metadata": {},
   "outputs": [],
   "source": [
    "#import sklearn libraries\n",
    "\n",
    "from sklearn.model_selection import train_test_split\n",
    "from sklearn.preprocessing import MinMaxScaler\n",
    "from sklearn.preprocessing import StandardScaler\n",
    "from sklearn.linear_model import LogisticRegression\n",
    "from sklearn.feature_selection import RFE\n",
    "from sklearn import metrics\n",
    "from sklearn.metrics import classification_report,recall_score,roc_auc_score,roc_curve,accuracy_score,precision_score,precision_recall_curve,confusion_matrix\n",
    "from sklearn.preprocessing import LabelEncoder\n",
    "\n",
    "from statsmodels.stats.outliers_influence import variance_inflation_factor\n",
    "\n",
    "#import visualization libraries\n",
    "import matplotlib.pyplot as plt\n",
    "import seaborn as sns\n",
    "sns.set(style=\"whitegrid\")\n",
    "\n",
    "#import stats library\n",
    "from scipy import stats\n",
    "import statsmodels.api as sm\n",
    "\n",
    "from IPython.display import display\n",
    "pd.options.display.max_columns = None"
   ]
  },
  {
   "cell_type": "markdown",
   "id": "3bfbafe5-17e1-4869-ae75-dad132f7fcb0",
   "metadata": {},
   "source": [
    "## Step-1 :  Reading and Understanding the Data"
   ]
  },
  {
   "cell_type": "code",
   "execution_count": null,
   "id": "32f3e817-459a-493e-a6e2-9d408a0883f2",
   "metadata": {},
   "outputs": [],
   "source": [
    "# Reading data from Leads.csv file\n",
    "\n",
    "lead_score_data = pd.read_csv(r'C:\\Users\\saksh\\Downloads\\Leads.csv')"
   ]
  },
  {
   "cell_type": "code",
   "execution_count": null,
   "id": "c8d70fc8-8094-412e-80af-555a8a97ce0c",
   "metadata": {},
   "outputs": [],
   "source": [
    "lead_score_data.head()"
   ]
  },
  {
   "cell_type": "code",
   "execution_count": null,
   "id": "b31213e0-f12f-4ee7-b125-e8ad912e9736",
   "metadata": {},
   "outputs": [],
   "source": [
    "# Lets check shape of data\n",
    "\n",
    "lead_score_data.shape"
   ]
  },
  {
   "cell_type": "markdown",
   "id": "343cfe20-81ae-483e-805b-e249aba930a2",
   "metadata": {},
   "source": [
    "#### The dataset has 9240 rows and 37 columns"
   ]
  },
  {
   "cell_type": "code",
   "execution_count": null,
   "id": "6889f1cd-0d64-48f7-ab29-0c762a31e8b2",
   "metadata": {},
   "outputs": [],
   "source": [
    "# Lets see the types of the feature variables and the null values present using info()\n",
    "\n",
    "lead_score_data.info()"
   ]
  },
  {
   "cell_type": "markdown",
   "id": "e4e84d48-04ef-4dec-8b41-7b9e125ed1e9",
   "metadata": {},
   "source": [
    "##### By looking above info, it seems there are quite few categorical varaibles present in data, therefore, we need to create the dummy variables for same."
   ]
  },
  {
   "cell_type": "code",
   "execution_count": null,
   "id": "133ba362-7d84-4dd5-9c52-137c904be3bd",
   "metadata": {},
   "outputs": [],
   "source": [
    "# Lets check the summary of the dataset\n",
    "\n",
    "lead_score_data.describe()"
   ]
  },
  {
   "cell_type": "markdown",
   "id": "df9d3296-a728-430c-ad93-39eb9fb2e9c9",
   "metadata": {},
   "source": [
    "#### Data Cleaning :\n",
    "#####            1. Check missing or null values in dataset\n",
    "#####            2. Drop unwanted columns from dataset"
   ]
  },
  {
   "cell_type": "code",
   "execution_count": null,
   "id": "0a9ff14c-fb75-4c05-99c0-a75ebdbc96d8",
   "metadata": {},
   "outputs": [],
   "source": [
    "# check if any null values present in dataset columns\n",
    "\n",
    "lead_score_data.isnull().sum()"
   ]
  },
  {
   "cell_type": "code",
   "execution_count": null,
   "id": "155e29ec-4cda-40e1-bbd8-1b66ace68e22",
   "metadata": {},
   "outputs": [],
   "source": [
    "# Checking the percentage of missing values\n",
    "\n",
    "null_col = round(100*(lead_score_data.isnull().sum()/len(lead_score_data.index)), 2)\n",
    "null_col"
   ]
  },
  {
   "cell_type": "code",
   "execution_count": null,
   "id": "3bfdcd7c-8c0b-4c3c-8b93-2edbf4c1b8bb",
   "metadata": {},
   "outputs": [],
   "source": [
    "# Find the columns of dataset whose percentage of null values is greater than 30%\n",
    "\n",
    "null_col = list(null_col[null_col.values >= 30.0].index)\n",
    "null_col"
   ]
  },
  {
   "cell_type": "markdown",
   "id": "67395135-d9b9-4928-92b1-5d958f592549",
   "metadata": {},
   "source": [
    "#### -- Drop Irrelevant Columns "
   ]
  },
  {
   "cell_type": "code",
   "execution_count": null,
   "id": "4ba6467b-a937-4d36-bdea-d4d19e258d31",
   "metadata": {},
   "outputs": [],
   "source": [
    "# Dropping the unwanted columns having more than 30% null values in Dataset\n",
    "\n",
    "lead_score_data.drop(labels = null_col , axis = 1 , inplace = True)\n",
    "\n",
    "print(len(null_col))  # to print number of columns deleted from dataset"
   ]
  },
  {
   "cell_type": "code",
   "execution_count": null,
   "id": "f8702e39-3926-456a-826a-646258eaefc3",
   "metadata": {},
   "outputs": [],
   "source": [
    "# Checking updated info of dataset\n",
    "\n",
    "lead_score_data.info()"
   ]
  },
  {
   "cell_type": "code",
   "execution_count": null,
   "id": "e3fa7f66-3f48-45cf-90b5-20c5eb463c46",
   "metadata": {},
   "outputs": [],
   "source": [
    "# Display the updated shape of Dataset\n",
    "\n",
    "lead_score_data.shape"
   ]
  },
  {
   "cell_type": "code",
   "execution_count": null,
   "id": "0e44d2f3-0190-4908-bec1-8043908ef97f",
   "metadata": {},
   "outputs": [],
   "source": [
    "# print the value counts of all the columns\n",
    "\n",
    "for col in lead_score_data:\n",
    "    print(lead_score_data[col].astype('category').value_counts())\n",
    "    print('___________________________________________________')"
   ]
  },
  {
   "cell_type": "markdown",
   "id": "53d5f570-f67e-4766-97e6-fda31c2d824d",
   "metadata": {},
   "source": [
    "There are some columns that contains Select, which means that the student had not selected any option for that particular column therefore, it shows 'Select'."
   ]
  },
  {
   "cell_type": "code",
   "execution_count": null,
   "id": "eeedf4c6-365b-4e96-9772-16bcd49b526a",
   "metadata": {},
   "outputs": [],
   "source": [
    "# Select all non-numeric columns\n",
    "lead_obj = lead_score_data.select_dtypes(include='object')\n",
    "\n",
    "# Find out columns that have value \"Select\"\n",
    "\n",
    "s = lambda x: x.str.contains('Select', na=False)\n",
    "l = lead_obj.columns[lead_obj.apply(s).any()].tolist()\n",
    "print (l)"
   ]
  },
  {
   "cell_type": "markdown",
   "id": "12ad047c-080f-4a70-a7a6-447376d28e13",
   "metadata": {},
   "source": [
    "#### Visualizing the columns with 'Select' values"
   ]
  },
  {
   "cell_type": "code",
   "execution_count": null,
   "id": "e6a01083-5aa5-40e2-8e47-8b11d62c6f6e",
   "metadata": {},
   "outputs": [],
   "source": [
    "# Lets figure out the total 'Select' value in columns using plot\n",
    "\n",
    "def countplot(x, fig):\n",
    "    plt.subplot(2,2, fig)\n",
    "    sns.countplot(lead_score_data[x])\n",
    "    plt.title('Count across'+' ('+ x + ')', size = 16)\n",
    "    plt.xlabel(x,size = 14)\n",
    "    plt.xticks(rotation = 90)\n",
    "\n",
    "plt.figure(figsize=(15,10))\n",
    "\n",
    "countplot('How did you hear about X Education',1)\n",
    "countplot('Lead Profile',2)\n",
    "countplot('Specialization',3)\n",
    "countplot('City',4)\n",
    "\n",
    "\n",
    "plt.tight_layout()"
   ]
  },
  {
   "cell_type": "markdown",
   "id": "cf26a460-aef5-4211-8279-86bcf92aa59d",
   "metadata": {},
   "source": [
    "The above 4 columns now have the level 'Select'."
   ]
  },
  {
   "cell_type": "code",
   "execution_count": null,
   "id": "41d9809a-71d9-45f4-9bf1-92b139301766",
   "metadata": {},
   "outputs": [],
   "source": [
    "# Check value count of \"Select\" in column 'Lead Profile'\n",
    "\n",
    "lead_score_data['Lead Profile'].astype('category').value_counts()"
   ]
  },
  {
   "cell_type": "code",
   "execution_count": null,
   "id": "17fbaf9f-1e80-4749-871e-e3ceff56d561",
   "metadata": {},
   "outputs": [],
   "source": [
    "# Check value count of \"Select\" in column 'How did you hear about X Education'\n",
    "\n",
    "lead_score_data['How did you hear about X Education'].value_counts()"
   ]
  },
  {
   "cell_type": "code",
   "execution_count": null,
   "id": "8a12bbfd-1b98-415a-9196-c4645fc88d6a",
   "metadata": {},
   "outputs": [],
   "source": [
    "# Check value count of \"Select\" in column 'Specialization'\n",
    "\n",
    "lead_score_data['Specialization'].value_counts()"
   ]
  },
  {
   "cell_type": "markdown",
   "id": "be764c1e-ddaf-4c65-9b72-bb7685169c85",
   "metadata": {},
   "source": [
    "From above analysis, we can see that the column 'Lead Profile' and 'How did you hear about X Education' has highest number of rows with 'Select' values that can be consider same as missing values, therefore we can drop them as they are of no use for further analysis."
   ]
  },
  {
   "cell_type": "code",
   "execution_count": null,
   "id": "253c2785-65dc-4927-a627-ed99c7002853",
   "metadata": {},
   "outputs": [],
   "source": [
    "# Dropping 'Lead Profile' and 'How did you hear about X Education' column from dataset\n",
    "\n",
    "lead_score_data.drop(['Lead Profile', 'How did you hear about X Education'], axis = 1, inplace = True)"
   ]
  },
  {
   "cell_type": "code",
   "execution_count": null,
   "id": "fcd4f009-73ab-40b7-92cb-c03aa89356b1",
   "metadata": {},
   "outputs": [],
   "source": [
    "# Checking the number of null values again\n",
    "\n",
    "lead_score_data.isnull().sum().sort_values(ascending=False)"
   ]
  },
  {
   "cell_type": "markdown",
   "id": "b4fe1478-4e41-4df5-9a42-51896434aa21",
   "metadata": {},
   "source": [
    "There are still 4 columns with huge null values. As they are important columns, removing them will cost us a lot of data. So, instead we are going to replace the NaN values with 'no data'. This way we have all the data with almost no null values. We can drop them off later, if they are of no use further."
   ]
  },
  {
   "cell_type": "code",
   "execution_count": null,
   "id": "2476d8fe-ca44-4194-a10c-1feae0c95161",
   "metadata": {},
   "outputs": [],
   "source": [
    "lead_score_data['Specialization'] = lead_score_data['Specialization'].fillna('no data') \n",
    "lead_score_data['What matters most to you in choosing a course'] = lead_score_data['What matters most to you in choosing a course'].fillna('no data')\n",
    "lead_score_data['Country'] = lead_score_data['Country'].fillna('no data')\n",
    "lead_score_data['What is your current occupation'] = lead_score_data['What is your current occupation'].fillna('no data')\n",
    "lead_score_data.info()"
   ]
  },
  {
   "cell_type": "code",
   "execution_count": null,
   "id": "330791e1-4d8e-4096-b5db-8d53edcf3648",
   "metadata": {},
   "outputs": [],
   "source": [
    "# Checking the number of null values again\n",
    "\n",
    "lead_score_data.isnull().sum().sort_values(ascending=False)"
   ]
  },
  {
   "cell_type": "markdown",
   "id": "f6e1fc0f-c2d6-4477-b7a9-1e870d71943b",
   "metadata": {},
   "source": [
    "##### As we can see above that \"City\" column still has maximum number of null values. So lets handle the null values of 'City'."
   ]
  },
  {
   "cell_type": "code",
   "execution_count": null,
   "id": "33f17ff9-500f-4abf-bbb5-9a9bcb900d1d",
   "metadata": {},
   "outputs": [],
   "source": [
    "lead_score_data['City'].value_counts(normalize = True, dropna = False) * 100"
   ]
  },
  {
   "cell_type": "code",
   "execution_count": null,
   "id": "c4f4d1aa-a3de-43a5-8934-4a009b92deaf",
   "metadata": {},
   "outputs": [],
   "source": [
    "# categorize all non-mumbai, but Maharashtra cities\n",
    "lead_score_data.loc[(lead_score_data.City == 'Thane & Outskirts') | (lead_score_data.City == 'Other Cities of Maharashtra'), 'City'] = 'Non-Mumbai MH Cities'\n",
    "\n",
    "# categorize all other cities\n",
    "lead_score_data.loc[(lead_score_data.City == 'Other Cities') | (lead_score_data.City == 'Other Metro Cities') | (lead_score_data.City == 'Tier II Cities') , 'City'] = 'Non-MH Cities'"
   ]
  },
  {
   "cell_type": "code",
   "execution_count": null,
   "id": "cf203076-68dd-47fc-8ca0-aa1e2f7e1336",
   "metadata": {},
   "outputs": [],
   "source": [
    "# replace 'Select' values to null values\n",
    "\n",
    "lead_score_data['City'] = lead_score_data['City'].replace('Select', np.NaN)\n",
    "lead_score_data['City'].head()"
   ]
  },
  {
   "cell_type": "code",
   "execution_count": null,
   "id": "b27ebed0-eab1-464c-b05e-2a099782e61f",
   "metadata": {},
   "outputs": [],
   "source": [
    "# Let check the updated value counts in column 'City'\n",
    "\n",
    "lead_score_data.City.value_counts(normalize = True) * 100"
   ]
  },
  {
   "cell_type": "code",
   "execution_count": null,
   "id": "e85eeb1e-4792-4cda-8bdd-47e9e2835940",
   "metadata": {},
   "outputs": [],
   "source": [
    "# Lets impute proportionately\n",
    "\n",
    "lead_score_data['City'] = lead_score_data.City.fillna(pd.Series(np.random.choice(['Mumbai', 'Non-Mumbai MH Cities','Non-MH Cities'], p = [0.5784, 0.2170, 0.2046 ], size = len(lead_score_data))))"
   ]
  },
  {
   "cell_type": "code",
   "execution_count": null,
   "id": "876a27fd-57c4-4300-a611-56e9d9a521cf",
   "metadata": {},
   "outputs": [],
   "source": [
    "# Lets check final updated column 'City'\n",
    "\n",
    "lead_score_data['City'].value_counts()"
   ]
  },
  {
   "cell_type": "markdown",
   "id": "1a80b52e-b579-4a85-b69f-60444707c5f2",
   "metadata": {},
   "source": [
    "#### 'What is your current occupation' Column"
   ]
  },
  {
   "cell_type": "code",
   "execution_count": null,
   "id": "bf073a9c-b3fd-4075-8dec-e2c650da3700",
   "metadata": {},
   "outputs": [],
   "source": [
    "# Check value count of column 'What is your current occupation'\n",
    "\n",
    "lead_score_data['What is your current occupation'].value_counts(normalize = True, dropna = False) * 100"
   ]
  },
  {
   "cell_type": "markdown",
   "id": "d95d4757-b6ab-4b30-89d7-24d26b0d189b",
   "metadata": {},
   "source": [
    "##### Note : For occupation, lets combine categories first, then impute proportionally to maintain the distribution and not introduce bias"
   ]
  },
  {
   "cell_type": "code",
   "execution_count": null,
   "id": "c24cdd4c-ce0c-4a90-9432-092b7f1bfa72",
   "metadata": {},
   "outputs": [],
   "source": [
    "# combine low representing categories\n",
    "lead_score_data.loc[(lead_score_data['What is your current occupation'] == 'Student') | (lead_score_data['What is your current occupation'] == 'Other') \n",
    "                            | (lead_score_data['What is your current occupation'] == 'Housewife') | \n",
    "                (lead_score_data['What is your current occupation'] == 'Businessman') , 'What is your current occupation'] = 'Student and Others'"
   ]
  },
  {
   "cell_type": "code",
   "execution_count": null,
   "id": "761541b5-74b3-47eb-bef1-a760b0533c1d",
   "metadata": {},
   "outputs": [],
   "source": [
    "# Lets check again the value count of updated column\n",
    "\n",
    "lead_score_data['What is your current occupation'].value_counts(normalize = True) * 100"
   ]
  },
  {
   "cell_type": "code",
   "execution_count": null,
   "id": "f4bd22c0-23d9-4a50-a628-c7be178fb54c",
   "metadata": {},
   "outputs": [],
   "source": [
    "# replace 'no data' values to null values\n",
    "\n",
    "lead_score_data['What is your current occupation'] = lead_score_data['What is your current occupation'].replace('no data', np.NaN)\n",
    "lead_score_data['What is your current occupation']"
   ]
  },
  {
   "cell_type": "code",
   "execution_count": null,
   "id": "bdc4ce57-56f0-43a6-9b8b-9adc6ad4bab3",
   "metadata": {},
   "outputs": [],
   "source": [
    "# Lets check again the value count of updated column\n",
    "\n",
    "lead_score_data['What is your current occupation'].value_counts(normalize = True) * 100"
   ]
  },
  {
   "cell_type": "code",
   "execution_count": null,
   "id": "ba3058d0-d08a-481b-95a2-7eba8de50352",
   "metadata": {},
   "outputs": [],
   "source": [
    "# Lets impute proportionately\n",
    "\n",
    "lead_score_data['What is your current occupation'] = lead_score_data['What is your current occupation'].fillna(pd.Series(np.random.choice(['Unemployed', 'Working Professional', \n",
    "                                                        'Student and Others'], p = [0.8550, 0.1078, 0.0372], size = len(lead_score_data))))"
   ]
  },
  {
   "cell_type": "code",
   "execution_count": null,
   "id": "4a80d082-7529-4546-996d-16858c38e8b8",
   "metadata": {},
   "outputs": [],
   "source": [
    "# Lets check final value count of updated column\n",
    "\n",
    "lead_score_data['What is your current occupation'].value_counts()"
   ]
  },
  {
   "cell_type": "markdown",
   "id": "3f65c686-bb21-4918-a94e-2c491650eea4",
   "metadata": {},
   "source": [
    "#### 'Specialization' Column"
   ]
  },
  {
   "cell_type": "code",
   "execution_count": null,
   "id": "6879ad3c-a542-4db2-b0b7-aa924ffd3fd6",
   "metadata": {},
   "outputs": [],
   "source": [
    "lead_score_data.Specialization.value_counts(normalize = True, dropna = False) * 100"
   ]
  },
  {
   "cell_type": "markdown",
   "id": "a4f87272-6a9b-4e9e-bb30-a7ce73d2fa0f",
   "metadata": {},
   "source": [
    "##### Note : For specialization, combine categories based on the course type, and then impute proportionally to maintain the distribution and not introduce bias"
   ]
  },
  {
   "cell_type": "code",
   "execution_count": null,
   "id": "f1fea381-8a7f-48d4-8627-141360f08bc8",
   "metadata": {},
   "outputs": [],
   "source": [
    "# categorize all industry courses\n",
    "lead_score_data.loc[(lead_score_data.Specialization == 'Banking, Investment And Insurance') | (lead_score_data.Specialization == 'Media and Advertising') |\n",
    "       (lead_score_data.Specialization == 'Travel and Tourism') | (lead_score_data.Specialization == 'Services Excellence') |\n",
    "       (lead_score_data.Specialization == 'E-COMMERCE'), 'Specialization'] = 'Industry Specializations'\n",
    "\n",
    "# categorize all management courses\n",
    "lead_score_data.loc[(lead_score_data.Specialization == 'Finance Management') | (lead_score_data.Specialization == 'Human Resource Management') | \n",
    "       (lead_score_data.Specialization == 'Marketing Management') |  (lead_score_data.Specialization == 'Operations Management') |\n",
    "       (lead_score_data.Specialization == 'IT Projects Management') | (lead_score_data.Specialization == 'Supply Chain Management') |\n",
    "       (lead_score_data.Specialization == 'Healthcare Management') | (lead_score_data.Specialization == 'Hospitality Management') |\n",
    "       (lead_score_data.Specialization == 'Retail Management') , 'Specialization'] = 'Management Specializations'\n",
    "\n",
    "# categorize all busines courses\n",
    "lead_score_data.loc[(lead_score_data.Specialization == 'Business Administration') | (lead_score_data.Specialization == 'International Business') | \n",
    "       (lead_score_data.Specialization == 'Rural and Agribusiness') | (lead_score_data.Specialization == 'E-Business') \n",
    "        , 'Specialization'] = 'Business Specializations'"
   ]
  },
  {
   "cell_type": "code",
   "execution_count": null,
   "id": "29050eb5-fa72-42cb-b17e-ec21c0fef295",
   "metadata": {},
   "outputs": [],
   "source": [
    "# Lets check the value count now\n",
    "\n",
    "lead_score_data.Specialization.value_counts(normalize = True) * 100"
   ]
  },
  {
   "cell_type": "code",
   "execution_count": null,
   "id": "dc81a6c5-2871-4a34-aa47-729d4996462c",
   "metadata": {},
   "outputs": [],
   "source": [
    "# replace 'no data' and select values to null values\n",
    "\n",
    "lead_score_data.Specialization = lead_score_data.Specialization.replace('no data', np.NaN)\n",
    "lead_score_data.Specialization = lead_score_data.Specialization.replace('Select', np.NaN)\n",
    "lead_score_data.Specialization"
   ]
  },
  {
   "cell_type": "code",
   "execution_count": null,
   "id": "e9ca4564-fdc4-4682-949e-13d62cac9fd7",
   "metadata": {},
   "outputs": [],
   "source": [
    "# Lets check again the value count of updated column\n",
    "\n",
    "lead_score_data.Specialization.value_counts(normalize = True) * 100"
   ]
  },
  {
   "cell_type": "code",
   "execution_count": null,
   "id": "84b0cc25-41d1-4477-8fd2-6d2dc91a7aea",
   "metadata": {},
   "outputs": [],
   "source": [
    "# impute proportionately\n",
    "lead_score_data['Specialization'] = lead_score_data.Specialization.fillna(pd.Series(np.random.choice(['Management Specializations', 'Business Specializations', \n",
    "                                        'Industry Specializations'], p = [0.7258, 0.1213, 0.1529 ], size = len(lead_score_data))))"
   ]
  },
  {
   "cell_type": "code",
   "execution_count": null,
   "id": "6b793e32-a043-46d6-9573-1f0aeea8fa74",
   "metadata": {},
   "outputs": [],
   "source": [
    "# Lets check final value count of updated column\n",
    "\n",
    "lead_score_data['Specialization'].value_counts()"
   ]
  },
  {
   "cell_type": "markdown",
   "id": "cde9a268-c52d-4afd-ae5e-2726c84cb545",
   "metadata": {},
   "source": [
    "#### 'What matters most to you in choosing a course' Column"
   ]
  },
  {
   "cell_type": "code",
   "execution_count": null,
   "id": "05a76716-ac22-4bcd-9aa5-505f284cb5cb",
   "metadata": {},
   "outputs": [],
   "source": [
    "lead_score_data['What matters most to you in choosing a course'].value_counts(normalize = True, dropna = False) * 100"
   ]
  },
  {
   "cell_type": "markdown",
   "id": "c83ec061-9b5a-4697-a6df-460ff59ec35c",
   "metadata": {},
   "source": [
    "##### Note : The distribution of the data is very heavily skewed, with Better career prospects + no data values = approx 100% of the total. It is safe to drop this column."
   ]
  },
  {
   "cell_type": "code",
   "execution_count": null,
   "id": "0cedb955-3758-4fb4-9e03-1b38be138322",
   "metadata": {},
   "outputs": [],
   "source": [
    "# Dropping the column 'What matters most to you in choosing a course'\n",
    "\n",
    "lead_score_data.drop('What matters most to you in choosing a course', axis = 1, inplace = True)"
   ]
  },
  {
   "cell_type": "markdown",
   "id": "5c1a155f-090c-4dd3-a87a-88e62b8c6152",
   "metadata": {},
   "source": [
    "#### 'Country' Column"
   ]
  },
  {
   "cell_type": "code",
   "execution_count": null,
   "id": "8b01f017-ae3e-425a-b312-1ac5aeade13d",
   "metadata": {},
   "outputs": [],
   "source": [
    "# Lets find value count of 'Country' column\n",
    "\n",
    "lead_score_data['Country'].value_counts(normalize = True, dropna = False) * 100"
   ]
  },
  {
   "cell_type": "markdown",
   "id": "08873d57-de67-4b7f-b23d-4c47e55a2948",
   "metadata": {},
   "source": [
    "##### Note : The distribution of the data is very heavily skewed, with India + no data values = 97% of the total. It is safe to drop this column."
   ]
  },
  {
   "cell_type": "code",
   "execution_count": null,
   "id": "91bdca2d-7b87-453b-97df-cbf45511d4ba",
   "metadata": {},
   "outputs": [],
   "source": [
    "# dropping the column 'Country'\n",
    "\n",
    "lead_score_data.drop('Country', axis = 1, inplace = True)"
   ]
  },
  {
   "cell_type": "code",
   "execution_count": null,
   "id": "74a7e812-3bf7-4edd-9770-12bbc53fae98",
   "metadata": {},
   "outputs": [],
   "source": [
    "# Checking the number of null values again\n",
    "\n",
    "lead_score_data.isnull().sum().sort_values(ascending=False)"
   ]
  },
  {
   "cell_type": "markdown",
   "id": "99563bcf-4503-41fe-888a-4277cce821c2",
   "metadata": {},
   "source": [
    "There are 4 columns 'TotalVisits' , 'Page Views Per Visit' , 'Last Activity' and 'Lead Source' in dataset which still has some null values. Lets take care of them in further steps."
   ]
  },
  {
   "cell_type": "markdown",
   "id": "aa5ccae4-aadf-4a53-b2a1-4ea658b1905c",
   "metadata": {},
   "source": [
    "#### Handling the categorical columns with less number of missing values:\n",
    "#####      1. Merge categories that have low representation of categories\n",
    "#####      2. Impute the missing values"
   ]
  },
  {
   "cell_type": "code",
   "execution_count": null,
   "id": "7dd52947-b9b3-49c2-a963-d944a2b3f1f7",
   "metadata": {},
   "outputs": [],
   "source": [
    "# lets find out the unique values for all object datatype columns\n",
    "\n",
    "for a, b in lead_score_data.select_dtypes(include='object').nunique().to_dict().items():\n",
    "    print('{} = {}'.format(a,b))"
   ]
  },
  {
   "cell_type": "markdown",
   "id": "d12e5968-4812-474e-9101-423df3f6ea11",
   "metadata": {},
   "source": [
    "##### Note : From the above result, we can see that, the categorical columns with (number of unique values > 2) are:\n",
    "#####     1.  'Lead Origin'\n",
    "#####     2. 'Lead Source'"
   ]
  },
  {
   "cell_type": "markdown",
   "id": "fa100cc1-18c4-46a8-b9ff-35a604228c3c",
   "metadata": {},
   "source": [
    "#### 'Lead Origin' Column"
   ]
  },
  {
   "cell_type": "code",
   "execution_count": null,
   "id": "0a7d986e-1ae7-4f62-a208-bd950286d9a9",
   "metadata": {},
   "outputs": [],
   "source": [
    "# Lets find value count of 'Lead Origin' column\n",
    "\n",
    "lead_score_data['Lead Origin'].value_counts(normalize = True, dropna = False) * 100"
   ]
  },
  {
   "cell_type": "markdown",
   "id": "1f74e8d3-1a89-4489-bd0d-3cfe90de1a21",
   "metadata": {},
   "source": [
    "##### Note : There are a lots of smaller values which won't be used as definitive factors, therefore, lets group them together"
   ]
  },
  {
   "cell_type": "code",
   "execution_count": null,
   "id": "e782581a-7c67-4a14-868a-89ff07eb0d76",
   "metadata": {},
   "outputs": [],
   "source": [
    "# combine low representing categories\n",
    "\n",
    "lead_score_data.loc[(lead_score_data['Lead Origin'] == 'Lead Import') | (lead_score_data['Lead Origin'] == 'Quick Add Form') \n",
    "                    | (lead_score_data['Lead Origin'] == 'Lead Add Form'), 'Lead Origin'] = 'Lead Add Forms and Others'\n",
    "\n",
    "# Lets check final value count of updated column\n",
    "\n",
    "lead_score_data['Lead Origin'].value_counts()"
   ]
  },
  {
   "cell_type": "markdown",
   "id": "114ddbe6-fdb1-4956-8f42-e0012efa29d7",
   "metadata": {},
   "source": [
    "#### 'Lead Source' Column"
   ]
  },
  {
   "cell_type": "code",
   "execution_count": null,
   "id": "f1c095ae-8983-4d23-a3d3-cd8839ac37b8",
   "metadata": {},
   "outputs": [],
   "source": [
    "# Lets find value count of 'Lead Source' column\n",
    "\n",
    "lead_score_data['Lead Source'].value_counts(normalize = True, dropna = False) * 100"
   ]
  },
  {
   "cell_type": "code",
   "execution_count": null,
   "id": "faedf264-081d-48d0-bd7d-40027d347241",
   "metadata": {},
   "outputs": [],
   "source": [
    "# Lets impute the missing values with the mode of data i.e. clearly 'Google'\n",
    "\n",
    "lead_score_data['Lead Source'].fillna(lead_score_data['Lead Source'].mode()[0], inplace=True)"
   ]
  },
  {
   "cell_type": "markdown",
   "id": "fe26da57-68a6-4d26-a0c5-fdfdec55551a",
   "metadata": {},
   "source": [
    "##### Note : There are a lots of smaller values which won't be used as definitive factors, therefore, lets group them together"
   ]
  },
  {
   "cell_type": "code",
   "execution_count": null,
   "id": "ac2e4fe5-036f-4316-9518-1225933183de",
   "metadata": {},
   "outputs": [],
   "source": [
    "# combine low representing categories\n",
    "\n",
    "lead_score_data['Lead Source'] = lead_score_data['Lead Source'].apply(lambda x: x if ((x== 'Google') | (x=='Direct Traffic') | (x=='Olark Chat') \n",
    "                                        |  (x=='Organic Search') | (x=='Reference') | (x=='Welingak Website'))else 'Other Social Sites')\n",
    "\n",
    "# Lets check final value count of updated column\n",
    "\n",
    "lead_score_data['Lead Source'].value_counts()"
   ]
  },
  {
   "cell_type": "markdown",
   "id": "cc8e8e60-9e40-4e7c-a99e-4890ae99970a",
   "metadata": {},
   "source": [
    "#### 'Last Activity' Column"
   ]
  },
  {
   "cell_type": "code",
   "execution_count": null,
   "id": "77246f6d-c964-46ae-b601-dc55cad86c1a",
   "metadata": {},
   "outputs": [],
   "source": [
    "# Lets find value count of 'Lead Source' column\n",
    "\n",
    "lead_score_data['Last Activity'].value_counts(normalize = True, dropna = False) * 100"
   ]
  },
  {
   "cell_type": "code",
   "execution_count": null,
   "id": "f93377f6-2a89-4e7a-befb-b300fbe5ffaa",
   "metadata": {},
   "outputs": [],
   "source": [
    "# Lets impute the missing values with the mode of data i.e. clearly 'Email Opened'\n",
    "\n",
    "lead_score_data['Last Activity'].fillna(lead_score_data['Last Activity'].mode()[0], inplace=True)"
   ]
  },
  {
   "cell_type": "code",
   "execution_count": null,
   "id": "96c703e0-6ed8-444f-b882-822c0888e81d",
   "metadata": {},
   "outputs": [],
   "source": [
    "lead_score_data['Last Activity'].value_counts()"
   ]
  },
  {
   "cell_type": "markdown",
   "id": "52796d33-b5b0-4e93-a2af-02f2bd0c16a7",
   "metadata": {},
   "source": [
    "#### Handling columns with Binary values :\n",
    "\n",
    "#####  1. Drop those columns with significant data imbalance\n",
    "#####  2. Drop the columns having only 1 unique entry"
   ]
  },
  {
   "cell_type": "code",
   "execution_count": null,
   "id": "3133a9eb-c922-4470-a86e-7ed76ae76f17",
   "metadata": {},
   "outputs": [],
   "source": [
    "# lets find out the unique values for all object datatype columns\n",
    "\n",
    "for a, b in lead_score_data.select_dtypes(include='object').nunique().to_dict().items():\n",
    "    print('{} = {}'.format(a,b))"
   ]
  },
  {
   "cell_type": "markdown",
   "id": "2cd5d048-1cda-42b1-8a17-99b1ef5799ab",
   "metadata": {},
   "source": [
    "As per above result, the columns having just 1 unique values are :\n",
    "\n",
    "1. Magazine\n",
    "2. Receive More Updates About Our Courses\n",
    "3. Update me on Supply Chain Content\n",
    "4. Get updates on DM Content\n",
    "5. I agree to pay the amount through cheque"
   ]
  },
  {
   "cell_type": "markdown",
   "id": "fc77836f-76e0-4b35-9f3e-03f0f2fba7dc",
   "metadata": {},
   "source": [
    "##### Note : Above listed columns are having only one value majorly present for all the data points. Practically all of the values for these variables are 'No', therefore, we can drop these columns as they won't help with our analysis."
   ]
  },
  {
   "cell_type": "markdown",
   "id": "6860a2ce-f054-46ff-bd0f-eaace169e91a",
   "metadata": {},
   "source": [
    "#### Data Imbalance Check :"
   ]
  },
  {
   "cell_type": "code",
   "execution_count": null,
   "id": "dd8cd518-3a05-44f9-95ad-9f1d30b9a5f7",
   "metadata": {},
   "outputs": [],
   "source": [
    "# Lets take rest of the binary columns in a new dataframe\n",
    "\n",
    "lead_score_bin = lead_score_data[['Do Not Email', 'Do Not Call', 'Search', 'Newspaper Article', 'X Education Forums', \n",
    "           'Newspaper', 'Digital Advertisement', 'Through Recommendations', 'A free copy of Mastering The Interview']]\n",
    "\n",
    "# Lets see value counts for each of the above listed columns\n",
    "\n",
    "for i in lead_score_bin.columns:\n",
    "    x = (lead_score_bin[i].value_counts(normalize = True)) * 100\n",
    "    print(x)\n",
    "    print()"
   ]
  },
  {
   "cell_type": "markdown",
   "id": "4fdf532e-b989-4e38-8e43-24fdcbabebf1",
   "metadata": {},
   "source": [
    "##### Note : Except the column 'A free copy of Mastering The Interview' and 'Do Not Email', all above columns shows heavy data imbalance."
   ]
  },
  {
   "cell_type": "markdown",
   "id": "dc0ff0c2-e12d-446f-9eff-65c4ece43671",
   "metadata": {},
   "source": [
    "Because of heavy data imbalance, we are dropping the following columns:\n",
    "\n",
    "1. Do Not Call\n",
    "2. Search\n",
    "3. Newspaper Article\n",
    "4. X Education Forums\n",
    "5. Newspaper\n",
    "6. Digital Advertisement\n",
    "7. Through Recommendations"
   ]
  },
  {
   "cell_type": "code",
   "execution_count": null,
   "id": "3ec3fb29-912a-439b-9917-ab06333e18fb",
   "metadata": {},
   "outputs": [],
   "source": [
    "lead_drop_bin = ['Do Not Email', 'Do Not Call', 'Search', 'Newspaper Article', 'X Education Forums', 'Newspaper', 'Digital Advertisement', \n",
    "            'Through Recommendations', 'A free copy of Mastering The Interview', 'Magazine','Receive More Updates About Our Courses',\n",
    "            'Update me on Supply Chain Content','Get updates on DM Content','I agree to pay the amount through cheque']\n",
    "\n",
    "lead_score_data.drop(lead_drop_bin, axis = 1, inplace = True)"
   ]
  },
  {
   "cell_type": "code",
   "execution_count": null,
   "id": "3ae87c3e-b73d-4ebd-a21c-32bd990221ab",
   "metadata": {},
   "outputs": [],
   "source": [
    "# Dropping the \"Prospect ID\" and \"Lead Number\" columns\n",
    "\n",
    "lead_score_data.drop(['Prospect ID', 'Lead Number'], axis = 1, inplace = True)"
   ]
  },
  {
   "cell_type": "markdown",
   "id": "e9f69780-a5d2-4d99-a431-61264350bf61",
   "metadata": {},
   "source": [
    "##### Note : Above columns 'Prospect ID' and 'Lead Number' won't be of any use in the analysis as they had unique values for each rows, therefore, we drop them."
   ]
  },
  {
   "cell_type": "markdown",
   "id": "0edc12ab-5a41-4964-832f-0ee0d32e71a4",
   "metadata": {},
   "source": [
    "#### Handling Columns with Numerical Values:"
   ]
  },
  {
   "cell_type": "markdown",
   "id": "e7791dbd-55d5-4919-becd-be6e78a266c5",
   "metadata": {},
   "source": [
    "#### 'TotalVisits' Column"
   ]
  },
  {
   "cell_type": "code",
   "execution_count": null,
   "id": "459cfaaf-345c-4476-a927-3be99797eac2",
   "metadata": {},
   "outputs": [],
   "source": [
    "# fill null values with median of data\n",
    "\n",
    "lead_score_data.TotalVisits.fillna(lead_score_data.TotalVisits.median(), inplace=True)\n",
    "\n",
    "# converting the datatype to integer as column 'TotalVisits' can't be decimal\n",
    "\n",
    "lead_score_data.TotalVisits = lead_score_data.TotalVisits.astype('int')"
   ]
  },
  {
   "cell_type": "code",
   "execution_count": null,
   "id": "9f6d6b9e-77c6-4c44-b74c-3149301299f6",
   "metadata": {},
   "outputs": [],
   "source": [
    "lead_score_data.TotalVisits"
   ]
  },
  {
   "cell_type": "markdown",
   "id": "b7c58117-e95f-493a-9065-1d1b55ba54d7",
   "metadata": {},
   "source": [
    "#### 'Page Views Per Visit' Column"
   ]
  },
  {
   "cell_type": "code",
   "execution_count": null,
   "id": "e42030fa-adf0-4b2b-9bfa-666a299d7f01",
   "metadata": {},
   "outputs": [],
   "source": [
    "# fill null values with median of data\n",
    "\n",
    "lead_score_data['Page Views Per Visit'].fillna(lead_score_data['Page Views Per Visit'].median(), inplace=True)\n",
    "\n",
    "# Lets check final value count of updated column\n",
    "\n",
    "lead_score_data['Page Views Per Visit']"
   ]
  },
  {
   "cell_type": "code",
   "execution_count": null,
   "id": "013f0554-825e-4334-82fa-0e8bc1eba4f7",
   "metadata": {},
   "outputs": [],
   "source": [
    "# Checking the number of null values again\n",
    "\n",
    "lead_score_data.isnull().sum().sort_values(ascending=False)"
   ]
  },
  {
   "cell_type": "markdown",
   "id": "60c9f98f-2d63-4fb4-bab6-b7aaff3dfc4c",
   "metadata": {},
   "source": [
    "##### Note : Now there are no missing values left in columns of dataset. Lets check percentage of rows retained."
   ]
  },
  {
   "cell_type": "markdown",
   "id": "7a906fff-8174-4e7d-9f71-fbb72da378e6",
   "metadata": {},
   "source": [
    "## Step-2 : EDA - Visualising the Data"
   ]
  },
  {
   "cell_type": "code",
   "execution_count": null,
   "id": "c0fa0b84-5afd-4d66-b8f0-36b4cbfd6d86",
   "metadata": {},
   "outputs": [],
   "source": [
    "# Lets print updated info of lead_score_data detaset\n",
    "\n",
    "lead_score_data.info()"
   ]
  },
  {
   "cell_type": "markdown",
   "id": "5772feab-f39f-4d0c-a5a2-65a8fd0dae27",
   "metadata": {},
   "source": [
    "### 2.1 Numerical Variable Analysis"
   ]
  },
  {
   "cell_type": "markdown",
   "id": "02effd4d-db84-4794-8208-84d0145405e5",
   "metadata": {},
   "source": [
    "#### ~ Visualising the linear relationship of numerical variables in dataset :"
   ]
  },
  {
   "cell_type": "code",
   "execution_count": null,
   "id": "3afefe6c-5941-458c-bfa6-8dff18fa04b2",
   "metadata": {},
   "outputs": [],
   "source": [
    "# Plotting all the variables of dataset using pairplot\n",
    "\n",
    "plt.figure(figsize=(13,13))\n",
    "sns.pairplot(lead_score_data)\n",
    "plt.show()"
   ]
  },
  {
   "cell_type": "code",
   "execution_count": null,
   "id": "49c32571-f4b8-4b36-a603-80ab72316863",
   "metadata": {},
   "outputs": [],
   "source": [
    "# Plotting numeric variables of dataset using pairplot w.r.t \"Converted\" \n",
    "\n",
    "lead = lead_score_data[['TotalVisits','Total Time Spent on Website','Page Views Per Visit','Converted']]\n",
    "sns.pairplot(lead,diag_kind='kde',hue='Converted')\n",
    "plt.show()"
   ]
  },
  {
   "cell_type": "code",
   "execution_count": null,
   "id": "af1c4b31-2721-4768-914e-52a094290254",
   "metadata": {},
   "outputs": [],
   "source": [
    "# Plotting the correlation for numerical variables using Heatmap\n",
    "\n",
    "plt.figure(figsize=(7,5))\n",
    "sns.heatmap(lead_score_data[['Converted','TotalVisits','Total Time Spent on Website','Page Views Per Visit']].corr(),cmap=\"RdYlGn\",annot=True)\n",
    "plt.title(\"Correlation between Numerical Variables\")\n",
    "plt.show()"
   ]
  },
  {
   "cell_type": "markdown",
   "id": "3633c7f9-6539-4e53-8e0d-8a261d28f365",
   "metadata": {},
   "source": [
    "##### Note : As we can't see any correlation among above data variables."
   ]
  },
  {
   "cell_type": "code",
   "execution_count": null,
   "id": "a8fa0748-5519-4d34-9209-19889c7e712c",
   "metadata": {},
   "outputs": [],
   "source": [
    "# describe the numeric variables to find outliers\n",
    "\n",
    "num = lead_score_data[['TotalVisits','Total Time Spent on Website','Page Views Per Visit']]\n",
    "num.describe(percentiles=[0.25,0.5,0.75,0.9,0.99])"
   ]
  },
  {
   "cell_type": "code",
   "execution_count": null,
   "id": "bbc19493-a37b-4929-a4b6-611ed9a78cc7",
   "metadata": {},
   "outputs": [],
   "source": [
    "# capping at 99 percentile\n",
    "\n",
    "lead_score_data['TotalVisits'].loc[lead_score_data['TotalVisits'] >= \n",
    "                            lead_score_data['TotalVisits'].quantile(0.99)] = lead_score_data['TotalVisits'].quantile(0.99)\n",
    "\n",
    "lead_score_data['Page Views Per Visit'].loc[lead_score_data['Page Views Per Visit'] >= \n",
    "                            lead_score_data['Page Views Per Visit'].quantile(0.99)] = lead_score_data['Page Views Per Visit'].quantile(0.99)"
   ]
  },
  {
   "cell_type": "markdown",
   "id": "6cb38ff2-5e47-4455-9f7b-4cfe63007a3c",
   "metadata": {},
   "source": [
    "##### Note : We can't find any major outliers in numeric variables of dataset."
   ]
  },
  {
   "cell_type": "markdown",
   "id": "8cdd9eba-4020-4baa-982d-3a3e30298104",
   "metadata": {},
   "source": [
    "### 2.2 Categorical Variable Analysis"
   ]
  },
  {
   "cell_type": "markdown",
   "id": "55c1e771-3a37-423f-ab6d-06e9d7cd0010",
   "metadata": {},
   "source": [
    "#### ~ Plotting the relationship of categorical variables w.r.t 'Converted':"
   ]
  },
  {
   "cell_type": "code",
   "execution_count": null,
   "id": "3ae7745e-c3d2-4101-a90a-6b3220ac9a5e",
   "metadata": {},
   "outputs": [],
   "source": [
    "# Plot 'Lead Origin' and 'Lead Source' vs 'Converted'\n",
    "\n",
    "plt.figure(figsize = (12,3))\n",
    "\n",
    "plt.subplot(1,2,1)\n",
    "sns.countplot(x='Lead Origin', hue='Converted', data= lead_score_data).tick_params(axis='x', rotation = 90)\n",
    "plt.title('Lead Origin')\n",
    "\n",
    "plt.subplot(1,2,2)\n",
    "sns.countplot(x='Lead Source', hue='Converted', data= lead_score_data).tick_params(axis='x', rotation = 90)\n",
    "plt.title('Lead Source')\n",
    "plt.show()"
   ]
  },
  {
   "cell_type": "code",
   "execution_count": null,
   "id": "904b6ff7-82a3-415a-80ff-9a1786209526",
   "metadata": {},
   "outputs": [],
   "source": [
    "# Plot 'Last Activity'  and  'Specialization'  vs  'Converted'\n",
    "\n",
    "plt.figure(figsize = (12,3))\n",
    "\n",
    "plt.subplot(1,2,1)\n",
    "sns.countplot(x='Last Activity', hue='Converted', data= lead_score_data).tick_params(axis='x', rotation = 90)\n",
    "plt.title('Last Activity')\n",
    "\n",
    "plt.subplot(1,2,2)\n",
    "sns.countplot(x='Specialization', hue='Converted', data= lead_score_data).tick_params(axis='x', rotation = 90)\n",
    "plt.title('Specialization')\n",
    "plt.show()"
   ]
  },
  {
   "cell_type": "code",
   "execution_count": null,
   "id": "68493ed5-9dff-4eec-9b64-d351df449187",
   "metadata": {},
   "outputs": [],
   "source": [
    "# Plot 'What is your current occupation'  and  'Last Notable Activity'  vs  'Converted'\n",
    "\n",
    "plt.figure(figsize = (12,3))\n",
    "\n",
    "plt.subplot(1,2,1)\n",
    "sns.countplot(x='What is your current occupation', hue='Converted', data= lead_score_data).tick_params(axis='x', rotation = 90)\n",
    "plt.title('What is your current occupation')\n",
    "\n",
    "\n",
    "plt.subplot(1,2,2)\n",
    "sns.countplot(x='Last Notable Activity', hue='Converted', data= lead_score_data).tick_params(axis='x', rotation = 90)\n",
    "plt.title('Last Notable Activity')\n",
    "plt.show()\n"
   ]
  },
  {
   "cell_type": "code",
   "execution_count": null,
   "id": "36195b66-0dda-46be-8c53-85db12e0effc",
   "metadata": {},
   "outputs": [],
   "source": [
    "# Plot 'City'  vs 'Converted'\n",
    "\n",
    "plt.figure(figsize = (7,3))\n",
    "\n",
    "sns.countplot(x='City', hue='Converted', data= lead_score_data).tick_params(axis='x', rotation = 90)\n",
    "plt.title('City')\n",
    "plt.show()"
   ]
  },
  {
   "cell_type": "markdown",
   "id": "1c8ed624-e3a3-4820-b356-d8f148e5cc93",
   "metadata": {},
   "source": [
    "## Step-3 : Data Preparation"
   ]
  },
  {
   "cell_type": "markdown",
   "id": "804019a2-ee6d-4092-a95b-04541a37fc6b",
   "metadata": {},
   "source": [
    "#### ~ Creating the dummies variables for categorical variables :"
   ]
  },
  {
   "cell_type": "code",
   "execution_count": null,
   "id": "dbd57539-5f1e-44c0-8746-aebb8241a912",
   "metadata": {},
   "outputs": [],
   "source": [
    "# Creating dummy variables for all categorical variables using 'get_dummies'.\n",
    "\n",
    "dum_var = pd.get_dummies(lead_score_data[['Lead Origin' ,'Lead Source','Last Activity','Specialization', 'What is your current occupation',\n",
    "                                          'City', 'Last Notable Activity']], drop_first=True)"
   ]
  },
  {
   "cell_type": "markdown",
   "id": "bfd2f4e3-f494-4c42-a1ff-6d3f9d5dfb4a",
   "metadata": {},
   "source": [
    "#### 3.1 Data Formatting:"
   ]
  },
  {
   "cell_type": "code",
   "execution_count": null,
   "id": "25911571-5eed-450f-b27b-42e2b2e9d654",
   "metadata": {},
   "outputs": [],
   "source": [
    "# print dataset before adding dummies\n",
    "\n",
    "lead_score_data.head()"
   ]
  },
  {
   "cell_type": "code",
   "execution_count": null,
   "id": "27e04086-1deb-40b3-95b8-777f31f99cec",
   "metadata": {},
   "outputs": [],
   "source": [
    "# Merging the 'lead_score_data' dataframe, with the dummy variables dataset and creating new updated dataframe\n",
    "\n",
    "lead_score_new = pd.concat([lead_score_data, dum_var], axis=1)\n",
    "lead_score_new"
   ]
  },
  {
   "cell_type": "code",
   "execution_count": null,
   "id": "9f5e082d-1792-432e-824d-54991c889574",
   "metadata": {},
   "outputs": [],
   "source": [
    "# print updated info for new dataset 'lead_score_new'\n",
    "\n",
    "lead_score_new.info()"
   ]
  },
  {
   "cell_type": "markdown",
   "id": "eec3b74d-37b3-4b8d-9243-fcd1e024fdcd",
   "metadata": {},
   "source": [
    "#### ~ Converting Binary (False/True) to 0/1"
   ]
  },
  {
   "cell_type": "code",
   "execution_count": null,
   "id": "d6c483cf-159f-40c1-9cfb-103f6b3e4e7a",
   "metadata": {},
   "outputs": [],
   "source": [
    "lead_bin = ['Lead Origin_Landing Page Submission','Lead Origin_Lead Add Forms and Others','Lead Source_Google','Lead Source_Olark Chat',\n",
    "            'Lead Source_Organic Search','Lead Source_Other Social Sites','Lead Source_Reference','Lead Source_Welingak Website',\n",
    "            'Last Activity_Converted to Lead','Last Activity_Email Bounced','Last Activity_Email Link Clicked','Last Activity_Email Marked Spam',\n",
    "            'Last Activity_Email Opened','Last Activity_Email Received','Last Activity_Form Submitted on Website',\n",
    "            'Last Activity_Had a Phone Conversation','Last Activity_Olark Chat Conversation','Last Activity_Page Visited on Website',\n",
    "            'Last Activity_Resubscribed to emails','Last Activity_SMS Sent','Last Activity_Unreachable','Last Activity_Unsubscribed',\n",
    "            'Last Activity_View in browser link Clicked','Last Activity_Visited Booth in Tradeshow','Specialization_Industry Specializations',\n",
    "            'Specialization_Management Specializations','What is your current occupation_Unemployed','What is your current occupation_Working Professional',\n",
    "            'City_Non-MH Cities','City_Non-Mumbai MH Cities','Last Notable Activity_Email Bounced','Last Notable Activity_Email Link Clicked',\n",
    "            'Last Notable Activity_Email Marked Spam','Last Notable Activity_Email Opened','Last Notable Activity_Email Received',\n",
    "            'Last Notable Activity_Form Submitted on Website','Last Notable Activity_Had a Phone Conversation','Last Notable Activity_Modified',\n",
    "            'Last Notable Activity_Olark Chat Conversation','Last Notable Activity_Page Visited on Website','Last Notable Activity_Resubscribed to emails',\n",
    "            'Last Notable Activity_SMS Sent','Last Notable Activity_Unreachable','Last Notable Activity_Unsubscribed',\n",
    "            'Last Notable Activity_View in browser link Clicked']"
   ]
  },
  {
   "cell_type": "code",
   "execution_count": null,
   "id": "6ee4ac5c-ec50-4183-afa5-e3e747593d0e",
   "metadata": {},
   "outputs": [],
   "source": [
    "# Defining the map function\n",
    "\n",
    "def bin_map(x):\n",
    "    return x.map({True: 1, False: 0})\n",
    "\n",
    "# Applying the function to the housing list\n",
    "lead_score_new[lead_bin] = lead_score_new[lead_bin].apply(bin_map)\n",
    "\n",
    "# check the updated data\n",
    "lead_score_new.head()"
   ]
  },
  {
   "cell_type": "code",
   "execution_count": null,
   "id": "706d71b4-9ecc-4e1a-81ca-2ff4c2df7dfa",
   "metadata": {},
   "outputs": [],
   "source": [
    "lead_score_new.info()"
   ]
  },
  {
   "cell_type": "code",
   "execution_count": null,
   "id": "55e8d6e2-172a-4545-a5a4-1a35ab4bb4f1",
   "metadata": {},
   "outputs": [],
   "source": [
    "# Drop unnecessary columns as we have already created dummy variable for them.\n",
    "\n",
    "lead_score_new.drop(['Lead Origin','Lead Source','Last Activity','Specialization', 'What is your current occupation',\n",
    "                                          'City', 'Last Notable Activity'], axis = 1 , inplace = True)"
   ]
  },
  {
   "cell_type": "code",
   "execution_count": null,
   "id": "622d1ecf-cf1c-402e-a3d8-3c65c4579b4e",
   "metadata": {},
   "outputs": [],
   "source": [
    "# display updated data \n",
    "\n",
    "lead_score_new.info()"
   ]
  },
  {
   "cell_type": "code",
   "execution_count": null,
   "id": "28c75504-94c4-4170-8026-213675daca36",
   "metadata": {},
   "outputs": [],
   "source": [
    "lead_score_new.shape"
   ]
  },
  {
   "cell_type": "markdown",
   "id": "692c7a81-d2fc-4467-b2e6-2512358807b2",
   "metadata": {},
   "source": [
    "##  Step-4 : Splitting Data into train and test "
   ]
  },
  {
   "cell_type": "code",
   "execution_count": null,
   "id": "061e9e19-7f5c-4e38-8929-917860d3bdcf",
   "metadata": {},
   "outputs": [],
   "source": [
    "# dropping \"Converted\" from X_train \n",
    "\n",
    "X = lead_score_new.drop(['Converted'], axis = 1)\n",
    "X.head()"
   ]
  },
  {
   "cell_type": "code",
   "execution_count": null,
   "id": "c11aa719-427f-4525-91cc-d8209a4cf432",
   "metadata": {},
   "outputs": [],
   "source": [
    "# Putting the target variable in Y\n",
    "\n",
    "Y = lead_score_new['Converted']\n",
    "Y.head()"
   ]
  },
  {
   "cell_type": "code",
   "execution_count": null,
   "id": "ee048b76-1441-4b0b-954a-ecfa0aafd6fc",
   "metadata": {},
   "outputs": [],
   "source": [
    "# Spliting the dataset into 70% train and 30% test\n",
    "\n",
    "X_train, X_test, y_train, y_test = train_test_split(X, Y, train_size=0.7, test_size=0.3, random_state=100)"
   ]
  },
  {
   "cell_type": "markdown",
   "id": "df5f74f6-e038-4e92-a87d-b006d157a461",
   "metadata": {},
   "source": [
    "#### ~ Rescaling the Features using MinMaxScaler"
   ]
  },
  {
   "cell_type": "code",
   "execution_count": null,
   "id": "14a767b5-240a-406b-af78-fec39478635a",
   "metadata": {},
   "outputs": [],
   "source": [
    "# Scale the three numeric features\n",
    "\n",
    "scaler = MinMaxScaler()\n",
    "X_train[['TotalVisits', 'Page Views Per Visit', 'Total Time Spent on Website']] = scaler.fit_transform(X_train[['TotalVisits', 'Page Views Per Visit', 'Total Time Spent on Website']])\n",
    "X_train.head()"
   ]
  },
  {
   "cell_type": "code",
   "execution_count": null,
   "id": "60e1e0c8-d195-46da-8f93-6a3ae7eb4e1e",
   "metadata": {},
   "outputs": [],
   "source": [
    "# Checking the correlation coefficients to find out which variables are highly correlated\n",
    "\n",
    "plt.figure(figsize = (40,40))\n",
    "sns.heatmap(X_train.corr(), annot = True, cmap=\"RdYlGn\")\n",
    "plt.show()"
   ]
  },
  {
   "cell_type": "markdown",
   "id": "47301483-b71e-4e23-b194-42620e604766",
   "metadata": {},
   "source": [
    "#### Note:\n",
    "1. 'Last Notable Activity_Resubscribed to emails' and 'Last Activity_Resubscribed to emails' have strong correlation.\n",
    "2. 'Last Notable Activity_Email Marked Spam' and 'Last Activity_Email Marked Spam' is highly correlated .\n",
    "\n",
    "Lets perform RFE to list out the significant columns"
   ]
  },
  {
   "cell_type": "markdown",
   "id": "976c9fd9-4f21-4a9e-8595-0372d6d26b4e",
   "metadata": {},
   "source": [
    "## Step-5  :  Building the linear Models for Train set"
   ]
  },
  {
   "cell_type": "markdown",
   "id": "50f51e8a-2e04-4bb2-8888-0533d0120c01",
   "metadata": {},
   "source": [
    "#### Building Model using RFE(Recursive Feature Elimination)"
   ]
  },
  {
   "cell_type": "code",
   "execution_count": null,
   "id": "ff12f619-6daa-499e-b9c9-030dd065e07b",
   "metadata": {},
   "outputs": [],
   "source": [
    "# Perform Recursive Feature Elimination \n",
    "\n",
    "logreg = LogisticRegression()"
   ]
  },
  {
   "cell_type": "code",
   "execution_count": null,
   "id": "789102bf-31ad-40e4-8c51-d8a22cadad5c",
   "metadata": {},
   "outputs": [],
   "source": [
    "# Running RFE with 15 variables as output\n",
    "\n",
    "rfe = RFE(logreg,n_features_to_select= 15)\n",
    "rfe = rfe.fit(X_train, y_train)"
   ]
  },
  {
   "cell_type": "code",
   "execution_count": null,
   "id": "84759133-c1a5-4525-93a4-95e8d9d2db0b",
   "metadata": {},
   "outputs": [],
   "source": [
    "# Features that have been selected by RFE\n",
    "\n",
    "list(zip(X_train.columns, rfe.support_, rfe.ranking_))"
   ]
  },
  {
   "cell_type": "code",
   "execution_count": null,
   "id": "8b18ff6c-ebd0-44e8-8a07-e517ba380f68",
   "metadata": {},
   "outputs": [],
   "source": [
    "# Put all the columns selected by RFE in the variable 'col'\n",
    "col = X_train.columns[rfe.support_]"
   ]
  },
  {
   "cell_type": "code",
   "execution_count": null,
   "id": "4d1b4cc7-996a-4fdd-a120-2b6a6a048062",
   "metadata": {},
   "outputs": [],
   "source": [
    "# Display list of features rejected by RFE\n",
    "\n",
    "X_train.columns[~rfe.support_]"
   ]
  },
  {
   "cell_type": "code",
   "execution_count": null,
   "id": "c9f74130-7c4a-4ccd-af60-03ea98123a32",
   "metadata": {},
   "outputs": [],
   "source": [
    "# Selecting columns selected by RFE\n",
    "\n",
    "X_train = X_train[col]"
   ]
  },
  {
   "cell_type": "markdown",
   "id": "338da4ba-e5f1-4b2b-a33e-a3fb8853d033",
   "metadata": {},
   "source": [
    "### Building Model - 1"
   ]
  },
  {
   "cell_type": "code",
   "execution_count": null,
   "id": "5b5eb0b8-2f48-46b4-8cb5-5ed880008476",
   "metadata": {},
   "outputs": [],
   "source": [
    "X_train_sm = sm.add_constant(X_train)\n",
    "logm1 = sm.GLM(y_train, X_train_sm, family = sm.families.Binomial())\n",
    "res = logm1.fit()\n",
    "res.summary()"
   ]
  },
  {
   "cell_type": "markdown",
   "id": "e6f25f41-d3e7-4920-8ea3-70c51c64f8e4",
   "metadata": {},
   "source": [
    "#### Calculate VIF - Model 1"
   ]
  },
  {
   "cell_type": "code",
   "execution_count": null,
   "id": "c337a1c4-56e6-4018-a2f6-54e630d64ff2",
   "metadata": {},
   "outputs": [],
   "source": [
    "# Calculate VIF for 1st model\n",
    "\n",
    "vif = pd.DataFrame()\n",
    "vif['Features'] = X_train.columns\n",
    "vif['VIF'] = [variance_inflation_factor(X_train.values, i) for i in range(X_train.shape[1])]\n",
    "vif['VIF'] = round(vif['VIF'], 2)\n",
    "vif = vif.sort_values(by = \"VIF\", ascending = False)\n",
    "vif"
   ]
  },
  {
   "cell_type": "markdown",
   "id": "3774ad46-1f4d-4ff6-bad2-b7faa11505da",
   "metadata": {},
   "source": [
    "#### Note :\n",
    "The above model shows that 'Lead Origin_Lead Add Forms and Others' variable has very high VIF value which is insignificant and needs to be dropped."
   ]
  },
  {
   "cell_type": "code",
   "execution_count": null,
   "id": "750c8c2c-f4f4-49c7-ad63-b519eed626f0",
   "metadata": {},
   "outputs": [],
   "source": [
    "X_train.drop('Lead Origin_Lead Add Forms and Others', axis = 1, inplace = True)"
   ]
  },
  {
   "cell_type": "markdown",
   "id": "b1c54c2f-1bd2-4565-a839-74b470b3c500",
   "metadata": {},
   "source": [
    "### Building Model - 2"
   ]
  },
  {
   "cell_type": "code",
   "execution_count": null,
   "id": "4c1908bf-9864-4baa-81e3-a320bb85981b",
   "metadata": {},
   "outputs": [],
   "source": [
    "# Refit the model with the new set of features\n",
    "\n",
    "logm2 = sm.GLM(y_train,(sm.add_constant(X_train)), family = sm.families.Binomial())\n",
    "logm2.fit().summary()"
   ]
  },
  {
   "cell_type": "markdown",
   "id": "8997ea42-90c3-4c48-9819-8d1ed0e074b2",
   "metadata": {},
   "source": [
    "#### Calculate VIF - Model 2"
   ]
  },
  {
   "cell_type": "code",
   "execution_count": null,
   "id": "27343593-c047-4d3b-81cd-6037709a234d",
   "metadata": {},
   "outputs": [],
   "source": [
    "# Calculate VIF for 2nd model\n",
    "\n",
    "vif = pd.DataFrame()\n",
    "vif['Features'] = X_train.columns\n",
    "vif['VIF'] = [variance_inflation_factor(X_train.values, i) for i in range(X_train.shape[1])]\n",
    "vif['VIF'] = round(vif['VIF'], 2)\n",
    "vif = vif.sort_values(by = \"VIF\", ascending = False)\n",
    "vif"
   ]
  },
  {
   "cell_type": "markdown",
   "id": "d1b96686-9a2f-47d8-9dd8-01cda5042f80",
   "metadata": {},
   "source": [
    "#### Note :\n",
    "The VIFs are now all less than 5. So let's drop the ones with the high p-values beginning with Last Notable Activity_Had a Phone Conversation."
   ]
  },
  {
   "cell_type": "code",
   "execution_count": null,
   "id": "9003034d-9dd4-4941-8ecb-389fd9137806",
   "metadata": {},
   "outputs": [],
   "source": [
    "# Dropping 'Last Notable Activity_Had a phone conversation' column from dataset\n",
    "\n",
    "X_train.drop('Last Notable Activity_Had a Phone Conversation', axis = 1, inplace = True)"
   ]
  },
  {
   "cell_type": "markdown",
   "id": "a4e4caa8-2ca7-450a-bdb1-86014388a93d",
   "metadata": {},
   "source": [
    "### Building Model - 3"
   ]
  },
  {
   "cell_type": "code",
   "execution_count": null,
   "id": "efd5bf72-1127-4aba-9dd4-5b671108574e",
   "metadata": {},
   "outputs": [],
   "source": [
    "# Lets build model-3\n",
    "\n",
    "logm1 = sm.GLM(y_train,(sm.add_constant(X_train)), family = sm.families.Binomial())\n",
    "logm1.fit().summary()"
   ]
  },
  {
   "cell_type": "code",
   "execution_count": null,
   "id": "4f607a5c-943e-4e51-acf4-958f577c9c76",
   "metadata": {},
   "outputs": [],
   "source": [
    "# Dropping 'Last Notable Activity_Unreachable' column from dataset\n",
    "\n",
    "X_train.drop('Last Notable Activity_Unreachable', axis = 1, inplace = True)"
   ]
  },
  {
   "cell_type": "markdown",
   "id": "abeb10c3-b559-4de1-90de-076b34a1af4a",
   "metadata": {},
   "source": [
    "### Building Model - 4"
   ]
  },
  {
   "cell_type": "code",
   "execution_count": null,
   "id": "bf394ee9-be3b-45b6-9c16-f5e16d860d0c",
   "metadata": {},
   "outputs": [],
   "source": [
    "# Lets build model-4\n",
    "\n",
    "logm1 = sm.GLM(y_train,(sm.add_constant(X_train)), family = sm.families.Binomial())\n",
    "logm1.fit().summary()"
   ]
  },
  {
   "cell_type": "markdown",
   "id": "3ef98bbf-9822-4f54-a0c3-b62aabdba43d",
   "metadata": {},
   "source": [
    "#### Calculate VIF - Model 4"
   ]
  },
  {
   "cell_type": "code",
   "execution_count": null,
   "id": "bd2f24f2-bca6-4df0-a957-99e0fc2a7af2",
   "metadata": {},
   "outputs": [],
   "source": [
    "# Calculate VIF for model - 4\n",
    "\n",
    "vif = pd.DataFrame()\n",
    "vif['Features'] = X_train.columns\n",
    "vif['VIF'] = [variance_inflation_factor(X_train.values, i) for i in range(X_train.shape[1])]\n",
    "vif['VIF'] = round(vif['VIF'], 2)\n",
    "vif = vif.sort_values(by = \"VIF\", ascending = False)\n",
    "vif"
   ]
  },
  {
   "cell_type": "markdown",
   "id": "d76af0b9-59cf-4f13-96ff-82ed57577118",
   "metadata": {},
   "source": [
    "#### Note : Now we can finalize this linear model-3 for further analysis due to following points:\n",
    "\n",
    "1. VIFs for all features are less than 5.\n",
    "2. p-values are almost zero for all variables.\n",
    "3. Overall linear model has become significant now.\n",
    "\n",
    "#### Now let's make predictions using this final set of features."
   ]
  },
  {
   "cell_type": "markdown",
   "id": "2e9b4be3-f6bb-41c4-b97d-8f1307cbfc41",
   "metadata": {},
   "source": [
    "## Step-7  :  Predictions and Model Evaluation "
   ]
  },
  {
   "cell_type": "markdown",
   "id": "196b6bf5-4d82-4cd4-81b1-99c5933731e9",
   "metadata": {},
   "source": [
    "### 7.1 Prediction on Train dataset"
   ]
  },
  {
   "cell_type": "code",
   "execution_count": null,
   "id": "e59f7633-6117-47a0-bb91-8f7a2b47f672",
   "metadata": {},
   "outputs": [],
   "source": [
    "# predict the probabilities on the train set using 'predict'\n",
    "\n",
    "y_train_pred = res.predict(sm.add_constant(X_train_sm))\n",
    "y_train_pred[:10]"
   ]
  },
  {
   "cell_type": "code",
   "execution_count": null,
   "id": "8c1293cf-5f9a-4bc5-b2f7-59bb1cd1970c",
   "metadata": {},
   "outputs": [],
   "source": [
    "# Reshape it into an array\n",
    "\n",
    "y_train_pred = y_train_pred.values.reshape(-1)\n",
    "y_train_pred[:10]"
   ]
  },
  {
   "cell_type": "markdown",
   "id": "1499dddb-4131-4bd2-82a0-56238e6ae1ce",
   "metadata": {},
   "source": [
    "#### ~ Creating a dataframe with the predicted probabilities and the actual conversion flag"
   ]
  },
  {
   "cell_type": "code",
   "execution_count": null,
   "id": "ab7af9fc-2884-4d5d-9c2c-5db54665fbee",
   "metadata": {},
   "outputs": [],
   "source": [
    "# Lets create a new dataframe containing the actual conversion flag and the probabilities predicted by the model\n",
    "\n",
    "y_train_pred_final = pd.DataFrame({'Converted':y_train.values, 'Conversion_Prob':y_train_pred})\n",
    "y_train_pred_final.head()"
   ]
  },
  {
   "cell_type": "markdown",
   "id": "50f1e0ae-49d7-4ad7-b6d0-91626130ad28",
   "metadata": {},
   "source": [
    "#### ~ Create New column 'Predicted' with 1 if Paid_Prob > 0.5 else 0"
   ]
  },
  {
   "cell_type": "code",
   "execution_count": null,
   "id": "8740cdff-3623-4535-a751-30a836ff57fb",
   "metadata": {},
   "outputs": [],
   "source": [
    "y_train_pred_final['Predicted'] = y_train_pred_final.Conversion_Prob.map(lambda x: 1 if x > 0.5 else 0)\n",
    "y_train_pred_final.head()"
   ]
  },
  {
   "cell_type": "markdown",
   "id": "bf1707f7-c255-461c-a86f-f9eb92d687dc",
   "metadata": {},
   "source": [
    "##### Now that you have made conversion predictions and also have the probabilities using them,next step is to evaluate the model."
   ]
  },
  {
   "cell_type": "markdown",
   "id": "9b91adce-d5f1-4dcf-ba8a-a0c3fae3813f",
   "metadata": {},
   "source": [
    "#### ~ Create Confusion Matrix"
   ]
  },
  {
   "cell_type": "code",
   "execution_count": null,
   "id": "7f7d2b02-aeb1-45c2-8393-064f434799ac",
   "metadata": {},
   "outputs": [],
   "source": [
    "# Creating confusion matrix \n",
    "confusion = metrics.confusion_matrix(y_train_pred_final.Converted, y_train_pred_final.Predicted )\n",
    "confusion"
   ]
  },
  {
   "cell_type": "markdown",
   "id": "e7b6c230-509c-4c33-80b7-5c26aa47bb83",
   "metadata": {},
   "source": [
    "#### ~ Accuracy"
   ]
  },
  {
   "cell_type": "code",
   "execution_count": null,
   "id": "f1eb63fe-a528-40c7-99ee-7afa475e883a",
   "metadata": {},
   "outputs": [],
   "source": [
    "# Check the overall accuracy\n",
    "metrics.accuracy_score(y_train_pred_final.Converted, y_train_pred_final.Predicted)"
   ]
  },
  {
   "cell_type": "markdown",
   "id": "81f21a0d-c323-4f1c-a81e-c9d058a0895d",
   "metadata": {},
   "source": [
    "##### Note :\n",
    "We got Accuracy around 81% which is a good value. Let's evaluate the other metrics as well."
   ]
  },
  {
   "cell_type": "code",
   "execution_count": null,
   "id": "54f5836d-ee6d-422a-8952-2ad0ae7314a7",
   "metadata": {},
   "outputs": [],
   "source": [
    "# true positive\n",
    "TP = confusion[1,1]\n",
    "# true negatives\n",
    "TN = confusion[0,0]\n",
    "# false positives\n",
    "FP = confusion[0,1] \n",
    "# false negatives\n",
    "FN = confusion[1,0]"
   ]
  },
  {
   "cell_type": "markdown",
   "id": "2453ff99-0141-4bc6-aafa-d04f44ebca44",
   "metadata": {},
   "source": [
    "#### ~ Sensitivity"
   ]
  },
  {
   "cell_type": "code",
   "execution_count": null,
   "id": "eb8b2338-bbf2-4313-b678-8c8bb8ef2464",
   "metadata": {},
   "outputs": [],
   "source": [
    "# Calculating the sensitivity\n",
    "TP/(TP+FN)"
   ]
  },
  {
   "cell_type": "markdown",
   "id": "ea7ea33b-842f-43df-8e35-110ecf30d9f7",
   "metadata": {},
   "source": [
    "#### ~ Specificity"
   ]
  },
  {
   "cell_type": "code",
   "execution_count": null,
   "id": "556fb8bc-eb75-46c2-ae46-f2492eb1e26e",
   "metadata": {},
   "outputs": [],
   "source": [
    "# Calculating the specificity\n",
    "TN/(TN+FP)"
   ]
  },
  {
   "cell_type": "markdown",
   "id": "963bd5e7-be00-4b01-998c-05ebcfde8730",
   "metadata": {},
   "source": [
    "The current cut-off to loosely check the model performance was 0.5, with this we have around:\n",
    "##### 81% Accuracy\n",
    "##### 70% Sensitivity\n",
    "##### 87% Specificity"
   ]
  },
  {
   "cell_type": "markdown",
   "id": "be175510-af4e-4a76-9c34-c2bf9126961e",
   "metadata": {},
   "source": [
    "### Create Optimal Cut-Off (ROC) curve"
   ]
  },
  {
   "cell_type": "code",
   "execution_count": null,
   "id": "bea17a50-50ea-47ae-967e-fd3dd7c61cab",
   "metadata": {},
   "outputs": [],
   "source": [
    "# Create ROC function\n",
    "\n",
    "def plot_roc( actual, probs ):\n",
    "    fpr, tpr, thresholds = metrics.roc_curve( actual, probs,\n",
    "                                              drop_intermediate = False )\n",
    "    auc_score = metrics.roc_auc_score( actual, probs )\n",
    "    plt.figure(figsize=(5, 5))\n",
    "    plt.plot( fpr, tpr, label='ROC curve (area = %0.2f)' % auc_score )\n",
    "    plt.plot([0, 1], [0, 1], 'k--')\n",
    "    plt.xlim([0.0, 1.0])\n",
    "    plt.ylim([0.0, 1.05])\n",
    "    plt.xlabel('False Positive Rate or [1 - True Negative Rate]')\n",
    "    plt.ylabel('True Positive Rate')\n",
    "    plt.title('Receiver operating characteristic example')\n",
    "    plt.legend(loc=\"lower right\")\n",
    "    plt.show()\n",
    "\n",
    "    return None"
   ]
  },
  {
   "cell_type": "code",
   "execution_count": null,
   "id": "8afab8c2-998c-4386-bc26-4a1bb465106e",
   "metadata": {},
   "outputs": [],
   "source": [
    "fpr, tpr, thresholds = metrics.roc_curve( y_train_pred_final.Converted, y_train_pred_final.Conversion_Prob, drop_intermediate = False )"
   ]
  },
  {
   "cell_type": "code",
   "execution_count": null,
   "id": "09b61654-f470-4e4f-ba52-8de253d7cb27",
   "metadata": {},
   "outputs": [],
   "source": [
    "# Call the ROC function\n",
    "\n",
    "plot_roc(y_train_pred_final.Converted, y_train_pred_final.Conversion_Prob)"
   ]
  },
  {
   "cell_type": "markdown",
   "id": "472dd77f-f8f5-4884-b9fe-8268b313dc4f",
   "metadata": {},
   "source": [
    "#### Note :\n",
    "\n",
    "The area shown under the curve of the ROC is 0.87 which is a good value to have a good model. \n",
    "Let's also check the sensitivity and specificity tradeoff to find the optimal cutoff point."
   ]
  },
  {
   "cell_type": "code",
   "execution_count": null,
   "id": "5c92f480-ad76-4406-b9cd-dd2b85b436af",
   "metadata": {},
   "outputs": [],
   "source": [
    "# Creating columns with different probability cutoffs \n",
    "\n",
    "num = [float(x)/10 for x in range(10)]\n",
    "for i in num:\n",
    "    y_train_pred_final[i]= y_train_pred_final.Conversion_Prob.map(lambda x: 1 if x > i else 0)\n",
    "y_train_pred_final.head()"
   ]
  },
  {
   "cell_type": "markdown",
   "id": "4e607038-f573-44bd-89da-3b4585940272",
   "metadata": {},
   "source": [
    "#### ~ Accuracy, Senstivity and Specificity with different probability cut-off values"
   ]
  },
  {
   "cell_type": "code",
   "execution_count": null,
   "id": "e6fd6a89-ad1d-43f2-bae6-84fe6e8af9c6",
   "metadata": {},
   "outputs": [],
   "source": [
    "# Creating a dataframe to see the values of accuracy, sensitivity, and specificity at different values of probabiity cutoffs\n",
    "cutoff_df = pd.DataFrame( columns = ['prob','accuracy','sensi','speci'])\n",
    "\n",
    "# Making confusing matrix to find values of sensitivity, accurace and specificity for each level of probablity\n",
    "\n",
    "num = [0.0,0.1,0.2,0.3,0.4,0.5,0.6,0.7,0.8,0.9]\n",
    "for i in num:\n",
    "    cm1 = metrics.confusion_matrix(y_train_pred_final.Converted, y_train_pred_final[i] )\n",
    "    total1=sum(sum(cm1))\n",
    "    accuracy = (cm1[0,0]+cm1[1,1])/total1\n",
    "    \n",
    "    speci = cm1[0,0]/(cm1[0,0]+cm1[0,1])\n",
    "    sensi = cm1[1,1]/(cm1[1,0]+cm1[1,1])\n",
    "    cutoff_df.loc[i] =[ i ,accuracy,sensi,speci]\n",
    "cutoff_df"
   ]
  },
  {
   "cell_type": "code",
   "execution_count": null,
   "id": "67b7ad2e-4477-4484-bc04-92021be8e3dc",
   "metadata": {},
   "outputs": [],
   "source": [
    "# Plot the matrix for different probability cutoff\n",
    "\n",
    "cutoff_df.plot.line(x='prob', y=['accuracy','sensi','speci'])\n",
    "plt.show()"
   ]
  },
  {
   "cell_type": "markdown",
   "id": "112e5637-3641-43f3-ac74-4fa93f9dd6c3",
   "metadata": {},
   "source": [
    "#### Note :\n",
    "\n",
    "From above graph its visible that now the optimal cutoff is around 0.35."
   ]
  },
  {
   "cell_type": "markdown",
   "id": "d04c799c-e745-40f8-8962-1d0b08a8dd58",
   "metadata": {},
   "source": [
    "#### ~ Create New column 'Final_Predicted' with 1 if Paid_Prob > 0.35 else 0"
   ]
  },
  {
   "cell_type": "code",
   "execution_count": null,
   "id": "1cde7d36-0324-423c-be9d-fa7796b7aafc",
   "metadata": {},
   "outputs": [],
   "source": [
    "y_train_pred_final['final_predicted'] = y_train_pred_final.Conversion_Prob.map( lambda x: 1 if x > 0.35 else 0)\n",
    "y_train_pred_final.head()"
   ]
  },
  {
   "cell_type": "markdown",
   "id": "de3d7161-f6f0-473e-a869-798a695e1fb9",
   "metadata": {},
   "source": [
    "#### ~ Accuracy for 'final_predicted'"
   ]
  },
  {
   "cell_type": "code",
   "execution_count": null,
   "id": "469eba63-9b08-46c1-9eb0-c5ebe93eb611",
   "metadata": {},
   "outputs": [],
   "source": [
    "# Check the overall accuracy\n",
    "\n",
    "metrics.accuracy_score(y_train_pred_final.Converted, y_train_pred_final.final_predicted)"
   ]
  },
  {
   "cell_type": "code",
   "execution_count": null,
   "id": "78ad0164-25b4-4ae9-9e5f-8c2cb2306522",
   "metadata": {},
   "outputs": [],
   "source": [
    "# Creating confusion matrix \n",
    "\n",
    "confusion2 = metrics.confusion_matrix(y_train_pred_final.Converted, y_train_pred_final.final_predicted )\n",
    "confusion2"
   ]
  },
  {
   "cell_type": "code",
   "execution_count": null,
   "id": "beb5bc10-0740-4fc8-ab04-4cb7ce6c4bd6",
   "metadata": {},
   "outputs": [],
   "source": [
    "# true positive\n",
    "TP = confusion2[1,1]\n",
    "# true negatives\n",
    "TN = confusion2[0,0]\n",
    "# false positives\n",
    "FP = confusion2[0,1] \n",
    "# false negatives\n",
    "FN = confusion2[1,0]"
   ]
  },
  {
   "cell_type": "markdown",
   "id": "386981a4-c8c4-4496-9431-cebbf67e0094",
   "metadata": {},
   "source": [
    "#### ~ Sensitivity"
   ]
  },
  {
   "cell_type": "code",
   "execution_count": null,
   "id": "f4711a0a-50ff-43d6-87d3-50fcff2b6655",
   "metadata": {},
   "outputs": [],
   "source": [
    "# Calculating the sensitivity\n",
    "TP/(TP+FN)"
   ]
  },
  {
   "cell_type": "markdown",
   "id": "30ddda2d-c4c5-418c-a762-7d407ef521df",
   "metadata": {},
   "source": [
    "#### ~ Specificity"
   ]
  },
  {
   "cell_type": "code",
   "execution_count": null,
   "id": "506edf26-08bd-417b-a803-c9f632fb1ebd",
   "metadata": {},
   "outputs": [],
   "source": [
    "# Calculating the specificity\n",
    "TN/(TN+FP)"
   ]
  },
  {
   "cell_type": "markdown",
   "id": "caddcdfb-ceb4-4e1a-a609-e9009ad29ca9",
   "metadata": {},
   "source": [
    "#### Note :\n",
    "\n",
    "With current Cutoff of 0.35, we got matrix around :\n",
    "\n",
    "##### Accuracy - 80%\n",
    "##### Senstivity - 80%\n",
    "##### Specificity - 79%"
   ]
  },
  {
   "cell_type": "markdown",
   "id": "037c0985-2f03-49c0-bd34-da7f31a63687",
   "metadata": {},
   "source": [
    "### 7.2 Prediction on Test set"
   ]
  },
  {
   "cell_type": "code",
   "execution_count": null,
   "id": "d035912a-c5f0-4f6b-a2ed-ff1970708fea",
   "metadata": {},
   "outputs": [],
   "source": [
    "# Scale the numeric values of test set using just 'transform'\n",
    "\n",
    "X_test[['TotalVisits', 'Page Views Per Visit', 'Total Time Spent on Website']] = scaler.transform(X_test[['TotalVisits', 'Page Views Per Visit', 'Total Time Spent on Website']])"
   ]
  },
  {
   "cell_type": "code",
   "execution_count": null,
   "id": "cbd95357-6ba3-469f-aa72-a3dbff58adda",
   "metadata": {},
   "outputs": [],
   "source": [
    "# Select the columns in X_train for X_test as well\n",
    "X_test = X_test[col]\n"
   ]
  },
  {
   "cell_type": "code",
   "execution_count": null,
   "id": "611d75e4-aecc-469c-8b67-fff32408dde7",
   "metadata": {},
   "outputs": [],
   "source": [
    "# Add a constant to X_test\n",
    "X_test_sm = sm.add_constant(X_test[col])\n",
    "X_test_sm\n",
    "X_test_sm"
   ]
  },
  {
   "cell_type": "code",
   "execution_count": null,
   "id": "44046436-f92e-438c-bdee-dc9ab3a98f3d",
   "metadata": {},
   "outputs": [],
   "source": [
    "# Storing prediction of test set in the variable 'y_test_pred'\n",
    "y_test_pred = res.predict(X_test_sm)\n",
    "# Coverting it to df\n",
    "y_pred_df = pd.DataFrame(y_test_pred)\n",
    "# Converting y_test to dataframe\n",
    "y_test_df = pd.DataFrame(y_test)\n",
    "# Remove index for both dataframes to append them side by side \n",
    "y_pred_df.reset_index(drop=True, inplace=True)\n",
    "y_test_df.reset_index(drop=True, inplace=True)\n",
    "# Append y_test_df and y_pred_df\n",
    "y_pred_final = pd.concat([y_test_df, y_pred_df],axis=1)\n",
    "# Renaming column \n",
    "y_pred_final= y_pred_final.rename(columns = {0 : 'Conversion_Prob'})\n",
    "y_pred_final.head()"
   ]
  },
  {
   "cell_type": "markdown",
   "id": "cd87c6cf-4c9d-439b-9ed6-77080b8a0854",
   "metadata": {},
   "source": [
    "#### ~ Prediction using cut off 0.35"
   ]
  },
  {
   "cell_type": "code",
   "execution_count": null,
   "id": "54ea38ff-0d19-4dbc-8551-1654bd9fa1cb",
   "metadata": {},
   "outputs": [],
   "source": [
    "# Making prediction using cut off 0.35\n",
    "\n",
    "y_pred_final['final_predicted'] = y_pred_final.Conversion_Prob.map(lambda x: 1 if x > 0.35 else 0)\n",
    "y_pred_final"
   ]
  },
  {
   "cell_type": "markdown",
   "id": "41cbdbae-650b-45d6-9f12-2b1a26902b9c",
   "metadata": {},
   "source": [
    "#### ~ Accuracy"
   ]
  },
  {
   "cell_type": "code",
   "execution_count": null,
   "id": "86dac49c-ab8f-4fb8-8522-50419fccf90f",
   "metadata": {},
   "outputs": [],
   "source": [
    "# Check the overall accuracy\n",
    "\n",
    "metrics.accuracy_score(y_pred_final['Converted'], y_pred_final.final_predicted)"
   ]
  },
  {
   "cell_type": "markdown",
   "id": "7356a89d-40ff-44f5-be50-651f540166d6",
   "metadata": {},
   "source": [
    "#### ~ Create Confusion Matrix"
   ]
  },
  {
   "cell_type": "code",
   "execution_count": null,
   "id": "1f61d1fb-3da5-4770-bce5-1723a1b02072",
   "metadata": {},
   "outputs": [],
   "source": [
    "# Creating confusion matrix \n",
    "\n",
    "conf2 = metrics.confusion_matrix(y_pred_final['Converted'], y_pred_final.final_predicted )\n",
    "conf2"
   ]
  },
  {
   "cell_type": "code",
   "execution_count": null,
   "id": "47a52f05-a6d1-4f89-bf44-bd690798844d",
   "metadata": {},
   "outputs": [],
   "source": [
    "# true positive\n",
    "TP = conf2[1,1]\n",
    "\n",
    "# true negatives\n",
    "TN = conf2[0,0]\n",
    "\n",
    "# false positives\n",
    "FP = conf2[0,1]\n",
    "\n",
    "# false negatives\n",
    "FN = conf2[1,0]"
   ]
  },
  {
   "cell_type": "markdown",
   "id": "5f7d428a-2edb-457d-b073-8b65b7ee5262",
   "metadata": {},
   "source": [
    "#### ~ Sensitivity"
   ]
  },
  {
   "cell_type": "code",
   "execution_count": null,
   "id": "5ae2a8f2-583f-4e99-8301-a081066dd692",
   "metadata": {},
   "outputs": [],
   "source": [
    "# Calculating the sensitivity\n",
    "\n",
    "TP/(TP+FN)"
   ]
  },
  {
   "cell_type": "markdown",
   "id": "e99175ae-e9a8-4750-9c7a-17584601471a",
   "metadata": {},
   "source": [
    "#### ~ Specificity"
   ]
  },
  {
   "cell_type": "code",
   "execution_count": null,
   "id": "c254c3de-ce18-4bc1-8590-2b63f000eb6e",
   "metadata": {},
   "outputs": [],
   "source": [
    "# Calculating the specificity\n",
    "\n",
    "TN/(TN+FP)"
   ]
  },
  {
   "cell_type": "markdown",
   "id": "a426ce30-f61d-4a3b-a50b-7c7124507d24",
   "metadata": {},
   "source": [
    "##### Note : With the current cut off as 0.35 we have accuracy, sensitivity and specificity of around 80%"
   ]
  },
  {
   "cell_type": "markdown",
   "id": "82e71a24-bbe3-47c1-9332-24231e40baeb",
   "metadata": {},
   "source": [
    "## Step-8  :  Precision-Recall "
   ]
  },
  {
   "cell_type": "markdown",
   "id": "2fba0c59-912e-4c11-8583-d13c1fa12d1f",
   "metadata": {},
   "source": [
    "### 8.1 Prediction on Train set using Precision-Recall View"
   ]
  },
  {
   "cell_type": "markdown",
   "id": "bf42bf15-c957-474c-9641-c2e1f58ceee9",
   "metadata": {},
   "source": [
    "#### ~ Create Confusion Matrix"
   ]
  },
  {
   "cell_type": "code",
   "execution_count": null,
   "id": "656a8542-ce17-4db1-9bb8-a29782388966",
   "metadata": {},
   "outputs": [],
   "source": [
    "confusion = metrics.confusion_matrix(y_train_pred_final.Converted, y_train_pred_final.Predicted )\n",
    "confusion"
   ]
  },
  {
   "cell_type": "markdown",
   "id": "847a4bcf-3e1c-4358-a7b8-4ef41e734bba",
   "metadata": {},
   "source": [
    "#### ~ Precision"
   ]
  },
  {
   "cell_type": "code",
   "execution_count": null,
   "id": "90a26938-3e2c-40a5-9a2c-525e95d6500e",
   "metadata": {},
   "outputs": [],
   "source": [
    "# Precision = TP / TP + FP\n",
    "\n",
    "confusion[1,1]/(confusion[0,1]+confusion[1,1])"
   ]
  },
  {
   "cell_type": "markdown",
   "id": "2363cfec-eae6-4355-9c9f-e0c04ea5fe18",
   "metadata": {},
   "source": [
    "#### ~ Recall"
   ]
  },
  {
   "cell_type": "code",
   "execution_count": null,
   "id": "5469a0f7-8fe8-436b-987e-53dc07de4039",
   "metadata": {},
   "outputs": [],
   "source": [
    "#Recall = TP / TP + FN\n",
    "\n",
    "confusion[1,1]/(confusion[1,0]+confusion[1,1])"
   ]
  },
  {
   "cell_type": "markdown",
   "id": "5bcc9869-5073-4723-b7b3-376d5a2d8560",
   "metadata": {},
   "source": [
    "### 8.1.1 Precision and recall tradeoff"
   ]
  },
  {
   "cell_type": "code",
   "execution_count": null,
   "id": "843b4904-3e05-4a4e-8fe9-e2a1bdd202ed",
   "metadata": {},
   "outputs": [],
   "source": [
    "y_train_pred_final.Converted, y_train_pred_final.Predicted"
   ]
  },
  {
   "cell_type": "code",
   "execution_count": null,
   "id": "42f8848e-065b-4dd7-af21-fe8dc7179289",
   "metadata": {},
   "outputs": [],
   "source": [
    "p, r, thresholds = precision_recall_curve(y_train_pred_final.Converted, y_train_pred_final.Conversion_Prob)"
   ]
  },
  {
   "cell_type": "code",
   "execution_count": null,
   "id": "6dee24e8-a607-4522-8b08-f59e39030be6",
   "metadata": {},
   "outputs": [],
   "source": [
    "# Plot thresholds for Precision and Recall\n",
    "\n",
    "plt.plot(thresholds, p[:-1], \"g-\")\n",
    "plt.plot(thresholds, r[:-1], \"r-\")\n",
    "plt.show()"
   ]
  },
  {
   "cell_type": "markdown",
   "id": "644fbfde-02f1-4514-aff3-4dc2d6c36bde",
   "metadata": {},
   "source": [
    "#### Note :\n",
    "\n",
    "From above graph its visible that now the optimal cutoff is around 0.43."
   ]
  },
  {
   "cell_type": "markdown",
   "id": "e6e71389-d596-4d0f-a7f8-6e077d27730f",
   "metadata": {},
   "source": [
    "#### ~ Create New column 'Final_Predicted' with 1 if Paid_Prob > 0.43 else 0"
   ]
  },
  {
   "cell_type": "code",
   "execution_count": null,
   "id": "3a210870-dc42-4e9a-99e3-6510f9bef6f6",
   "metadata": {},
   "outputs": [],
   "source": [
    "y_train_pred_final['final_predicted'] = y_train_pred_final.Conversion_Prob.map(lambda x: 1 if x > 0.41 else 0)\n",
    "y_train_pred_final.head()"
   ]
  },
  {
   "cell_type": "markdown",
   "id": "86be008f-19d4-41ab-87bf-d163af46da89",
   "metadata": {},
   "source": [
    "#### ~ Create Confusion Matrix"
   ]
  },
  {
   "cell_type": "code",
   "execution_count": null,
   "id": "c9988a05-2fa7-43a7-b5e2-914aebe68c8e",
   "metadata": {},
   "outputs": [],
   "source": [
    "# Creating confusion matrix again\n",
    "\n",
    "conf2 = metrics.confusion_matrix(y_train_pred_final.Converted, y_train_pred_final.final_predicted )\n",
    "conf2"
   ]
  },
  {
   "cell_type": "markdown",
   "id": "94ad0c95-3f00-49ee-9f15-ead20cc71369",
   "metadata": {},
   "source": [
    "#### ~ Accuracy"
   ]
  },
  {
   "cell_type": "code",
   "execution_count": null,
   "id": "7e9509c4-f047-4043-a4c4-511a44f428fc",
   "metadata": {},
   "outputs": [],
   "source": [
    "metrics.accuracy_score(y_train_pred_final.Converted, y_train_pred_final.final_predicted)"
   ]
  },
  {
   "cell_type": "code",
   "execution_count": null,
   "id": "63a9d042-0eec-48c9-890a-c95b062cc368",
   "metadata": {},
   "outputs": [],
   "source": [
    "# true positive\n",
    "TP = conf2[1,1]\n",
    "\n",
    "# true negatives\n",
    "TN = conf2[0,0]\n",
    "\n",
    "# false positives\n",
    "FP = conf2[0,1] \n",
    "\n",
    "# false negatives\n",
    "FN = conf2[1,0]"
   ]
  },
  {
   "cell_type": "markdown",
   "id": "14bc20d7-0140-40e8-bd3a-fddff0d0e95c",
   "metadata": {},
   "source": [
    "#### ~ Precision"
   ]
  },
  {
   "cell_type": "code",
   "execution_count": null,
   "id": "3821b9c7-e660-4725-b2ad-0e602aa92193",
   "metadata": {},
   "outputs": [],
   "source": [
    "# Precision = TP / TP + FP\n",
    "\n",
    "TP / (TP + FP)"
   ]
  },
  {
   "cell_type": "markdown",
   "id": "904fd088-1106-4c13-9b84-0969cce0b70f",
   "metadata": {},
   "source": [
    "#### ~ Recall"
   ]
  },
  {
   "cell_type": "code",
   "execution_count": null,
   "id": "155a7983-a61e-46f8-a353-f998d9877067",
   "metadata": {},
   "outputs": [],
   "source": [
    "#Recall = TP / TP + FN\n",
    "\n",
    "TP / (TP + FN)"
   ]
  },
  {
   "cell_type": "markdown",
   "id": "03f04c8c-49ba-4822-83e1-5d4d45473587",
   "metadata": {},
   "source": [
    "##### Note : With the current cut off as 0.43, both Precision and Recall around 74% and 76%"
   ]
  },
  {
   "cell_type": "markdown",
   "id": "97d6f691-7efb-43c5-a130-ecc0eae7d973",
   "metadata": {},
   "source": [
    "### 8.2 Prediction on Test set using Precision-Recall View"
   ]
  },
  {
   "cell_type": "code",
   "execution_count": null,
   "id": "3adddf51-9d0f-45a0-b7a2-92cd3c2e7cda",
   "metadata": {},
   "outputs": [],
   "source": [
    "# Make predictions on the test set and store it in the variable 'Y_test_pred'\n",
    "\n",
    "y_test_pred = res.predict(sm.add_constant(X_test))"
   ]
  },
  {
   "cell_type": "code",
   "execution_count": null,
   "id": "869f1de1-9178-426b-a5f4-36ae031b3752",
   "metadata": {},
   "outputs": [],
   "source": [
    "y_test_pred[:10]"
   ]
  },
  {
   "cell_type": "code",
   "execution_count": null,
   "id": "a36fbf90-3d28-4a9f-8268-4f19619802a3",
   "metadata": {},
   "outputs": [],
   "source": [
    "# Converting Y_pred to a dataframe\n",
    "\n",
    "y_pred = pd.DataFrame(y_test_pred)\n",
    "y_pred.head()"
   ]
  },
  {
   "cell_type": "code",
   "execution_count": null,
   "id": "c6d0d0a6-c6e9-46a5-9c05-ea268967e0ed",
   "metadata": {},
   "outputs": [],
   "source": [
    "# Converting y_test to dataframe\n",
    "\n",
    "lead_y_test = pd.DataFrame(y_test)"
   ]
  },
  {
   "cell_type": "code",
   "execution_count": null,
   "id": "283179af-eb29-42b9-a538-3ed2830281b6",
   "metadata": {},
   "outputs": [],
   "source": [
    "# Removing index for both dataframes to append them side by side \n",
    "\n",
    "y_pred.reset_index(drop=True, inplace=True)\n",
    "lead_y_test.reset_index(drop=True, inplace=True)"
   ]
  },
  {
   "cell_type": "code",
   "execution_count": null,
   "id": "301f9103-eb52-410f-a6a3-176c99380a9d",
   "metadata": {},
   "outputs": [],
   "source": [
    "# Append lead_y_test and y_pred\n",
    "\n",
    "y_pred_final = pd.concat([lead_y_test, y_pred],axis=1)\n",
    "\n",
    "# Checking the 'y_pred_final'\n",
    "\n",
    "y_pred_final.head()"
   ]
  },
  {
   "cell_type": "code",
   "execution_count": null,
   "id": "bb92cd8b-58e0-488b-98a5-c51b184b3ece",
   "metadata": {},
   "outputs": [],
   "source": [
    "# Rename the column \n",
    "\n",
    "y_pred_final= y_pred_final.rename(columns = {0 : 'Conversion_Prob'})\n",
    "\n",
    "# Let's see the head of y_pred_final\n",
    "\n",
    "y_pred_final.head()"
   ]
  },
  {
   "cell_type": "markdown",
   "id": "bca533ee-f237-4ee2-882e-60023906b78b",
   "metadata": {},
   "source": [
    "#### ~ Create New column 'final_predicted' with 1 if Paid_Prob > 0.43 else 0"
   ]
  },
  {
   "cell_type": "code",
   "execution_count": null,
   "id": "31dbf51d-9dcf-47c0-ab72-16161aef5309",
   "metadata": {},
   "outputs": [],
   "source": [
    "# Making predictions on the test set using 0.43 as the cutoff\n",
    "\n",
    "y_pred_final['final_predicted'] = y_pred_final.Conversion_Prob.map(lambda x: 1 if x > 0.43 else 0)\n",
    "y_pred_final"
   ]
  },
  {
   "cell_type": "markdown",
   "id": "63517f36-32c0-4e08-9e76-5dda0889c103",
   "metadata": {},
   "source": [
    "#### ~ Create Confusion Matrix"
   ]
  },
  {
   "cell_type": "code",
   "execution_count": null,
   "id": "64a5aae0-9784-4983-aaf9-39013a267e8e",
   "metadata": {},
   "outputs": [],
   "source": [
    "# Creating confusion matrix \n",
    "\n",
    "confusion2 = metrics.confusion_matrix(y_pred_final['Converted'], y_pred_final.final_predicted )\n",
    "confusion2"
   ]
  },
  {
   "cell_type": "markdown",
   "id": "6c2b61e4-2837-477f-a0f8-60204a4cffb5",
   "metadata": {},
   "source": [
    "#### ~ Accuracy"
   ]
  },
  {
   "cell_type": "code",
   "execution_count": null,
   "id": "575973a6-2f9b-4844-ab84-83124eed225f",
   "metadata": {},
   "outputs": [],
   "source": [
    "# Check the overall accuracy\n",
    "\n",
    "metrics.accuracy_score(y_pred_final['Converted'], y_pred_final.final_predicted)"
   ]
  },
  {
   "cell_type": "code",
   "execution_count": null,
   "id": "24d7b4ce-4e1d-4139-b694-5c5a8626019a",
   "metadata": {},
   "outputs": [],
   "source": [
    "# true positive\n",
    "TP = confusion2[1,1]\n",
    "\n",
    "# true negatives\n",
    "TN = confusion2[0,0]\n",
    "\n",
    "# false positives\n",
    "FP = confusion2[0,1]\n",
    "\n",
    "# false negatives\n",
    "FN = confusion2[1,0]"
   ]
  },
  {
   "cell_type": "markdown",
   "id": "c48fa75a-bc2d-4d0a-b183-4c97bf47f096",
   "metadata": {},
   "source": [
    "#### ~ Precision"
   ]
  },
  {
   "cell_type": "code",
   "execution_count": null,
   "id": "eeeccb5d-1a1c-476e-9ef1-8c5daf879650",
   "metadata": {},
   "outputs": [],
   "source": [
    "# Precision = TP / TP + FP\n",
    "\n",
    "TP / (TP + FP)"
   ]
  },
  {
   "cell_type": "markdown",
   "id": "3819bf5d-ec26-42fe-9409-4d927ec9c5f3",
   "metadata": {},
   "source": [
    "#### ~ Recall"
   ]
  },
  {
   "cell_type": "code",
   "execution_count": null,
   "id": "8d775683-40f8-4fe5-85ce-313dcca90641",
   "metadata": {},
   "outputs": [],
   "source": [
    "#Recall = TP / TP + FN\n",
    "\n",
    "TP / (TP + FN)"
   ]
  },
  {
   "cell_type": "markdown",
   "id": "c8617b2a-bc00-4afe-9307-3e112f269efc",
   "metadata": {},
   "source": [
    "##### Note : With the current cut off as 0.43, Precision is around 76% and Recall around 72% with 80% Accuracy"
   ]
  },
  {
   "cell_type": "markdown",
   "id": "91e0e926-500c-45e1-a5bf-27bdc5cfc0c8",
   "metadata": {},
   "source": [
    "## Conclusion :"
   ]
  },
  {
   "cell_type": "markdown",
   "id": "b99c6731-b456-46d9-ad83-e0e2d9e9cabd",
   "metadata": {},
   "source": [
    "#### There are some significant variables that mattered the most in identifying the promising \"Hot Leads\" for company:\n",
    "\n",
    "1. \"TotalVisits\" : The total number of visits made by the customer on the website.\n",
    "2. \"Total Time Spent on Website\"\n",
    "3. \"Page Views Per Visit\" : Average number of pages on the website viewed during the visits.\n",
    "4. \"Lead Source\" : The source of Lead can be, includes a. Google\n",
    "b. Olark Chat\n",
    "c. Welingak website\n",
    "d. Reference\n",
    "5. \"Last Activity\" : Majority of last activity performed by customer can be\n",
    "a. Olark Chat Conversation\n",
    "b. Converted to Lead\n",
    "c. Email Bounced\n",
    "d. Had a Phone Conversation\n",
    "6. \"Last Notable Activity\" : The last notable activity performed by the customer can be SMS Sent\n",
    "7. The Leads having Current Occupation as \"Working Professional\"."
   ]
  },
  {
   "cell_type": "markdown",
   "id": "052d280d-09c0-4b8d-97cc-5dbca0e0826c",
   "metadata": {},
   "source": [
    "#### The X Education can flourish their high conversion chance by keeping above factors in mind and can get almost all the potential buyers to become their Converted Leads and buy their courses."
   ]
  },
  {
   "cell_type": "code",
   "execution_count": null,
   "id": "6c4322f1-1da0-40ca-b3d2-a8f176d075f3",
   "metadata": {},
   "outputs": [],
   "source": []
  }
 ],
 "metadata": {
  "kernelspec": {
   "display_name": "Python [conda env:base] *",
   "language": "python",
   "name": "conda-base-py"
  },
  "language_info": {
   "codemirror_mode": {
    "name": "ipython",
    "version": 3
   },
   "file_extension": ".py",
   "mimetype": "text/x-python",
   "name": "python",
   "nbconvert_exporter": "python",
   "pygments_lexer": "ipython3",
   "version": "3.12.7"
  }
 },
 "nbformat": 4,
 "nbformat_minor": 5
}
